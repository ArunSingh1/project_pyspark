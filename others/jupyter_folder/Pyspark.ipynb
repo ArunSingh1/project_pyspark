{
 "cells": [
  {
   "cell_type": "code",
   "execution_count": null,
   "id": "00e4dee8",
   "metadata": {},
   "outputs": [],
   "source": [
    "import tweepy \n",
    "from tweepy import OAuthHandler # to authenticate Twitter API\n",
    "from tweepy import Stream \n",
    "from tweepy.streaming import StreamListener\n",
    "import socket \n",
    "import json \n",
    "import mysql.connector\n",
    "from mysql.connector import Error\n",
    "from unidecode import unidecode\n",
    "from dateutil import parser\n",
    "\n",
    "## db\n",
    "# cnx = mysql.connector.connect(user='pyspark', password='password',\n",
    "#                               host='localhost',\n",
    "#                               database='twitterdb', auth_plugin='mysql_native_password')\n",
    "# cursor = cnx.cursor()\n",
    "# query = \"\"\"CREATE table IF NOT EXISTS dude (task_id INT AUTO_INCREMENT PRIMARY KEY,username VARCHAR(255) NOT NULL,created_at DATE,retweet_count INT NOT NULL,tweet TEXT)\"\"\"\n",
    "# cursor.execute(query)\n",
    "# cursor.close()\n",
    "# cnx.close()\n",
    "\n",
    "\n",
    "    \n",
    "consumer_key    = 'n4XUxW5VFjygbfn11b0qlQtPN'\n",
    "consumer_secret = '9K8NhQZU57DlttBk7OpfALtmFzI8LDSCZJKShYwvVUzXaNuxnR'\n",
    "access_token    = '1394047431281623042-QN1mFN7N88IKIt5OOCpuaGTfLBAIUP'\n",
    "access_secret   = 'NL0pZvd3Gy7BVZbIAL11qcmCxTtJ2XX2Yafnpro73CGud'\n",
    "\n",
    "def connect(username, created_at, tweet, retweet_count):\n",
    "\t\"\"\"\n",
    "\tconnect to MySQL database and insert twitter data\n",
    "\t\"\"\"\n",
    "\ttry:\n",
    "\t\tcon = mysql.connector.connect(host = 'localhost',\n",
    "\t\tdatabase='twitterdb', user='pyspark', password = 'password',auth_plugin='mysql_native_password', charset = 'utf8')\n",
    "\t\t\n",
    "\t\tif con.is_connected():\n",
    "\t\t\t\"\"\"\n",
    "\t\t\tInsert twitter data\n",
    "\t\t\t\"\"\"\n",
    "\t\t\tcursor = con.cursor()\n",
    "\t\t\t# twitter, golf\n",
    "\t\t\tquery = \"INSERT INTO dude (username, created_at, tweet, retweet_count) VALUES (%s, %s, %s, %s)\"\n",
    "\t\t\tcursor.execute(query, (username, created_at, tweet, retweet_count))\n",
    "\t\t\tcon.commit()\n",
    "            \n",
    "\t\t\t\n",
    "\t\t\t\n",
    "\texcept Error as e:\n",
    "\t\tprint(e)\n",
    "\n",
    "\t#cursor.close()\n",
    "\t#con.close()\n",
    "\treturn\n",
    "\n",
    "\n",
    "\n",
    "# Tweepy class to access Twitter API\n",
    "class Streamlistener(tweepy.StreamListener):\n",
    "\t\n",
    "\n",
    "\tdef on_connect(self):\n",
    "\t\tprint(\"You are connected to the Twitter API\")\n",
    "\n",
    "\n",
    "\tdef on_error(self):\n",
    "\t\tif status_code != 200:\n",
    "\t\t\tprint(\"error found\")\n",
    "\t\t\t# returning false disconnects the stream\n",
    "\t\t\treturn False\n",
    "\n",
    "\t\"\"\"\n",
    "\tThis method reads in tweet data as Json\n",
    "\tand extracts the data we want.\n",
    "\t\"\"\"\n",
    "\tdef on_data(self,data):\n",
    "\t\t\n",
    "\t\ttry:\n",
    "\t\t\traw_data = json.loads(data)\n",
    "\n",
    "\t\t\tif 'text' in raw_data:\n",
    "\t\t\t\t \n",
    "\t\t\t\tusername = raw_data['user']['screen_name']\n",
    "\t\t\t\tcreated_at = parser.parse(raw_data['created_at'])\n",
    "\t\t\t\ttweet = unidecode(raw_data['text'])\n",
    "\t\t\t\tretweet_count = raw_data['retweet_count']\n",
    "\n",
    "\t\t\t\t#insert data just collected into MySQL database\n",
    "\t\t\t\tconnect(username, created_at, tweet, retweet_count)\n",
    "\t\t\t\tprint(\"Tweet colleted at: {} \".format(str(created_at)))\n",
    "\t\texcept Error as e:\n",
    "\t\t\tprint(e)\n",
    "\n",
    "\n",
    "if __name__== '__main__':\n",
    "\n",
    "\t# authentification so we can access twitter\n",
    "\tauth = tweepy.OAuthHandler(consumer_key, consumer_secret)\n",
    "\tauth.set_access_token(access_token, access_secret)\n",
    "\tapi =tweepy.API(auth, wait_on_rate_limit=True)\n",
    "\n",
    "\t# create instance of Streamlistener\n",
    "\tlistener = Streamlistener(api = api)\n",
    "\tstream = tweepy.Stream(auth, listener = listener)\n",
    "\n",
    "\ttrack = ['football']\n",
    "\t#track = ['nba', 'cavs', 'celtics', 'basketball']\n",
    "\t# choose what we want to filter by\n",
    "\tstream.filter(track = track, languages = ['en'])"
   ]
  },
  {
   "cell_type": "code",
   "execution_count": 16,
   "id": "fb726dfc",
   "metadata": {},
   "outputs": [],
   "source": [
    "tweet_id= 'dsa'\n",
    "user='asd'\n",
    "user_id='asda'\n",
    "user_desc='asdsad'\n",
    "created_at_str='asda'\n",
    "date='asdas'\n",
    "text='asdas'\n",
    "hashtags='asdsa' \n",
    "lang='asdasd'\n",
    "profilepic='asdasd' \n",
    "location='asdasd'\n",
    "retweet_count='asdasd'\n",
    "favorite_count='asdads' \n",
    "joined_in='asd'\n",
    "is_Verfied='asd'\n",
    "followers_count='asdas'\n",
    "geo='asdas'\n",
    "source='asd'\n",
    "\n"
   ]
  },
  {
   "cell_type": "code",
   "execution_count": 17,
   "id": "f251878b",
   "metadata": {},
   "outputs": [
    {
     "ename": "SyntaxError",
     "evalue": "EOL while scanning string literal (<ipython-input-17-48c6bb898979>, line 1)",
     "output_type": "error",
     "traceback": [
      "\u001b[0;36m  File \u001b[0;32m\"<ipython-input-17-48c6bb898979>\"\u001b[0;36m, line \u001b[0;32m1\u001b[0m\n\u001b[0;31m    \"INSERT INTO dudes (tweet_id, user, user_id, user_desc, created_at_str, date, text, hashtags, lang, profilepic, location, retweet_count, favorite_count, joined_in, is_Verfied, followers_count, geo, source\u001b[0m\n\u001b[0m                                                                                                                                                                                                                ^\u001b[0m\n\u001b[0;31mSyntaxError\u001b[0m\u001b[0;31m:\u001b[0m EOL while scanning string literal\n"
     ]
    }
   ],
   "source": [
    "\"INSERT INTO dudes (tweet_id, user, user_id, user_desc, created_at_str, date, text, hashtags, lang, profilepic, location, retweet_count, favorite_count, joined_in, is_Verfied, followers_count, geo, source\n",
    ") VALUES {},{}, {}, {}, {}, {},  {},{}, {}, {}, {}, {},  {},{}, {}, {}, {}, {} \".format(tweet_id,user, user_id, user_desc, created_at_str, date, text, hashtags, lang, profilepic, location, retweet_count, favorite_count, joined_in, is_Verfied, followers_count, geo, source\n",
    "\n"
   ]
  },
  {
   "cell_type": "code",
   "execution_count": 26,
   "id": "f418c2e1",
   "metadata": {},
   "outputs": [
    {
     "data": {
      "text/plain": [
       "\"INSERT INTO dudes (tweet_id, user, user_id, user_desc, created_at_str, date, text, hashtags, lang, profilepic, location, retweet_count, favorite_count,geo,source) VALUES ('dsa', 'asd', 'asda', 'asdsad', 'asda', 'asdas', 'asdas', 'asdsa')\""
      ]
     },
     "execution_count": 26,
     "metadata": {},
     "output_type": "execute_result"
    }
   ],
   "source": [
    "\"\"\"INSERT INTO dudes (tweet_id, user, user_id, user_desc, created_at_str, date, text, hashtags, lang, profilepic, location, retweet_count, favorite_count, joined_in, is_Verfied, followers_count, geo, source) VALUES ('{}', '{}', '{}', '{}', '{}', '{}', '{}', '{}')\"\"\".format(tweet_id, user, user_id, user_desc, created_at_str, date, text, hashtags,\n",
    "                                                                 lang, profilepic, location, retweet_count, favorite_count,geo,source)"
   ]
  },
  {
   "cell_type": "code",
   "execution_count": 27,
   "id": "2c291b70",
   "metadata": {},
   "outputs": [
    {
     "data": {
      "text/plain": [
       "\"INSERT INTO tests (tweet_id, user, user_id, user_desc, created_at_str, date, text, hashtags, lang, profilepic, location, retweet_count, favorite_count, joined_in, is_Verfied, followers_count, geo, source) VALUES ('dsa', 'asd', 'asda', 'asdsad', 'asda', 'asdas', 'asdas', 'asdsa', 'asdasd', 'asdasd', 'asdasd', 'asdasd', 'asdads', 'asd', 'asd', 'asdas', 'asdas', 'asd')\""
      ]
     },
     "execution_count": 27,
     "metadata": {},
     "output_type": "execute_result"
    }
   ],
   "source": [
    "\"INSERT INTO tests (tweet_id, user, user_id, user_desc, created_at_str, date, text, hashtags, lang, profilepic, location, retweet_count, favorite_count, joined_in, is_Verfied, followers_count, geo, source) VALUES ('{}', '{}', '{}', '{}', '{}', '{}', '{}', '{}', '{}', '{}', '{}', '{}', '{}', '{}', '{}', '{}', '{}', '{}')\".format(tweet_id, user, user_id, user_desc, created_at_str, date, text, hashtags, lang, profilepic, location, retweet_count, favorite_count, joined_in, is_Verfied, followers_count, geo, source)\n"
   ]
  },
  {
   "cell_type": "code",
   "execution_count": null,
   "id": "b847fe63",
   "metadata": {},
   "outputs": [],
   "source": [
    "INSERT INTO tests (tweet_id, username, user_id, user_desc, created_at_str, date, text, hashtags, lang, profilepic, location, retweet_count, favorite_count, joined_in, is_Verfied, followers_count, geo, source) VALUES ('dsa', 'asd', 'asda', 'asdsad', 'asda', 'asdas', 'asdas', 'asdsa', 'asdasd', 'asdasd', 'asdasd', 'asdasd', 'asdads', 'asd', 'asd', 'asdas', 'asdas', 'asd');"
   ]
  }
 ],
 "metadata": {
  "kernelspec": {
   "display_name": "Python 3",
   "language": "python",
   "name": "python3"
  },
  "language_info": {
   "codemirror_mode": {
    "name": "ipython",
    "version": 3
   },
   "file_extension": ".py",
   "mimetype": "text/x-python",
   "name": "python",
   "nbconvert_exporter": "python",
   "pygments_lexer": "ipython3",
   "version": "3.8.5"
  }
 },
 "nbformat": 4,
 "nbformat_minor": 5
}
