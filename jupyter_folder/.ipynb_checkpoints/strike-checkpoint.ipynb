{
 "cells": [
  {
   "cell_type": "raw",
   "id": "a1fd008f",
   "metadata": {},
   "source": [
    "import tweepy \n",
    "from tweepy import OAuthHandler # to authenticate Twitter API\n",
    "from tweepy import Stream \n",
    "from tweepy.streaming import StreamListener\n",
    "import socket \n",
    "import json \n",
    "    \n",
    "consumer_key    = 'n4XUxW5VFjygbfn11b0qlQtPN'\n",
    "consumer_secret = '9K8NhQZU57DlttBk7OpfALtmFzI8LDSCZJKShYwvVUzXaNuxnR'\n",
    "access_token    = '1394047431281623042-QN1mFN7N88IKIt5OOCpuaGTfLBAIUP'\n",
    "access_secret   = 'NL0pZvd3Gy7BVZbIAL11qcmCxTtJ2XX2Yafnpro73CGud'\n",
    "\n",
    "\n",
    "class TweetsListener(StreamListener):\n",
    "\n",
    "  def __init__(self, csocket):\n",
    "      self.client_socket = csocket\n",
    "\n",
    "  def on_data(self, data):\n",
    "      try:\n",
    "          msg = json.loads( data )\n",
    "          print(msg['text'].encode('utf-8'))\n",
    "          self.client_socket.send( msg['text'].encode('utf-8'))\n",
    "          return True\n",
    "      except BaseException as e:\n",
    "          print(\"Error on_data: %s\" % str(e))\n",
    "      return True\n",
    "\n",
    "  def on_error(self, status):\n",
    "      print(status)\n",
    "      return True\n",
    "\n",
    "\n",
    "\n",
    "\n",
    "def sendData(c_socket):\n",
    "  auth = OAuthHandler(consumer_key, consumer_secret)\n",
    "  auth.set_access_token(access_token, access_secret)\n",
    "\n",
    "  twitter_stream = Stream(auth, TweetsListener(c_socket))\n",
    "  twitter_stream.filter(track=['football'])\n",
    "\n",
    "if __name__ == \"__main__\":\n",
    "  s = socket.socket(socket.AF_INET, socket.SOCK_STREAM)         # Create a socket object\n",
    "  host = \"127.0.0.1\"     # Get local machine name\n",
    "  port = 5555                 # Reserve a port for your service.\n",
    "  s.bind((host, port))        # Bind to the port\n",
    "\n",
    "  print(\"Listening on port: %s\" % str(port))\n",
    "\n",
    "  s.listen(5)                 # Now wait for client connection.\n",
    "  c, addr = s.accept()        # Establish connection with client.\n",
    "\n",
    "  print(\"Received request from: \" + str(addr))\n",
    "\n",
    "  sendData(c)\n"
   ]
  },
  {
   "cell_type": "code",
   "execution_count": 35,
   "id": "da9894e8",
   "metadata": {},
   "outputs": [],
   "source": [
    "#credentials['CONSUMER_KEY'] \n",
    "APP_KEY = \"n4XUxW5VFjygbfn11b0qlQtPN\"\n",
    "#credentials['CONSUMER_SECRET'] \n",
    "APP_SECRET = \"9K8NhQZU57DlttBk7OpfALtmFzI8LDSCZJKShYwvVUzXaNuxnR\"\n",
    "#credentials['ACCESS_TOKEN'] \n",
    "OAUTH_TOKEN = \"1394047431281623042-QN1mFN7N88IKIt5OOCpuaGTfLBAIUP\"\n",
    "#credentials['ACCESS_SECRET'] \n",
    "OAUTH_TOKEN_SECRET= \"NL0pZvd3Gy7BVZbIAL11qcmCxTtJ2XX2Yafnpro73CGud\""
   ]
  },
  {
   "cell_type": "code",
   "execution_count": 34,
   "id": "370bde2f",
   "metadata": {},
   "outputs": [],
   "source": [
    "# !pip install unidecode\n",
    "headers = [\"tweet_id\",       \n",
    "\"username\",       \n",
    "\"user_id\",             \n",
    "\"created_at_str\", \n",
    "\"date\",           \n",
    "\"text\",           \n",
    "\"hashtags\",       \n",
    "\"lang\",           \n",
    "\"profilepic\",     \n",
    "\"location\",       \n",
    "\"retweet_count\",  \n",
    "\"favorite_count\", \n",
    "\"joined_in\",      \n",
    "\"is_Verfied\",     \n",
    "\"followers_count\",\n",
    "\"geo\",            \n",
    "\"source\"]  "
   ]
  },
  {
   "cell_type": "code",
   "execution_count": 37,
   "id": "8f707089",
   "metadata": {},
   "outputs": [],
   "source": [
    "from twython import TwythonStreamer\n",
    "import csv\n",
    "from unidecode import unidecode\n",
    "from dateutil import parser\n",
    "\n",
    "\n",
    "# Filter out unwanted data\n",
    "def process_tweet(tweet):\n",
    "    \n",
    "    dict_ = {'tweet_id': [], 'user': [], 'user_id' : [] , 'created_at_str' : [], 'date': [], 'text': [], 'hashtags' : [], 'lang' : [], 'profilepic': [], 'retweet_count' : [], \n",
    "         'location': [],'favorite_count': [], 'is_Verfied' : [], 'followers_count':[],  'joined_in' : [], 'geo': [], 'source': []}\n",
    "    \n",
    "    dict_['tweet_id']=(tweet['id'])\n",
    "    dict_['user']=(tweet['user']['screen_name'])\n",
    "    dict_['user_id']=(tweet['user']['id'])\n",
    "    #dict_['user_desc']=unidecode(tweet['user']['description'])\n",
    "    dict_['created_at_str']=parser.parse(tweet['created_at'])\n",
    "    dict_['date']=parser.parse(tweet['created_at'])\n",
    "    dict_['text']=unidecode(tweet['text'])\n",
    "    dict_['hashtags']=[hashtag['text'] for hashtag in tweet['entities']['hashtags']]\n",
    "    dict_['lang']=(tweet['user']['lang'])\n",
    "    dict_['profilepic']=(tweet['user']['profile_image_url'])\n",
    "    dict_['location']=(tweet['user']['location'])\n",
    "    dict_['retweet_count']=(tweet['retweet_count'])\n",
    "    dict_['favorite_count']=(tweet['favorite_count'])\n",
    "    dict_['is_Verfied']=(tweet['user']['verified'])\n",
    "    dict_['followers_count']=(tweet['user']['followers_count'])\n",
    "    dict_['joined_in']=(tweet['user']['created_at'])\n",
    "    dict_['geo']=(tweet['geo'])\n",
    "    dict_['source']=(tweet['source'])\n",
    "\n",
    "    return dict_\n",
    "\n",
    "# Create a class that inherits TwythonStreamer\n",
    "class MyStreamer(TwythonStreamer):     \n",
    "\n",
    "    # Received data\n",
    "    def on_success(self, data):\n",
    "\n",
    "        # Only collect tweets in English\n",
    "        if data['lang'] == 'en':\n",
    "            tweet_data = process_tweet(data)\n",
    "            print(tweet_data)\n",
    "#             df1 = pd.DataFrame(tweet_data)\n",
    "            self.save_to_csv(tweet_data)\n",
    "\n",
    "    # Problem with the API\n",
    "    def on_error(self, status_code, data):\n",
    "        print(status_code, data)\n",
    "        self.disconnect()\n",
    "        \n",
    "    # Save each tweet to csv file\n",
    "    def save_to_csv(self, tweet):\n",
    "        with open(r'mm.csv', 'a') as file:\n",
    "            writer = csv.writer(file)\n",
    "            #writer.writerows(headers) \n",
    "            writer.writerow(list(tweet.values()))"
   ]
  },
  {
   "cell_type": "code",
   "execution_count": null,
   "id": "5e6ba0ba",
   "metadata": {},
   "outputs": [
    {
     "name": "stdout",
     "output_type": "stream",
     "text": [
      "{'tweet_id': 1401994869594374144, 'user': 'SJimmyv2', 'user_id': 1296721696766996484, 'created_at_str': datetime.datetime(2021, 6, 7, 20, 9, 59, tzinfo=tzutc()), 'date': datetime.datetime(2021, 6, 7, 20, 9, 59, tzinfo=tzutc()), 'text': '@JohnnyS92122449 @tottenpurpp @BaggedGenius @RamoBall @LCFCBoudaoui @SpursyLukaV2_ Do you own any cryptocurrency', 'hashtags': [], 'lang': None, 'profilepic': 'http://pbs.twimg.com/profile_images/1395298836566974465/VkbePpZu_normal.jpg', 'retweet_count': 0, 'location': 'Vienna, Austria', 'favorite_count': 0, 'is_Verfied': False, 'followers_count': 117, 'joined_in': 'Fri Aug 21 08:12:11 +0000 2020', 'geo': None, 'source': '<a href=\"http://twitter.com/download/iphone\" rel=\"nofollow\">Twitter for iPhone</a>'}\n",
      "{'tweet_id': 1401994871146172424, 'user': 'golgalush', 'user_id': 2432678828, 'created_at_str': datetime.datetime(2021, 6, 7, 20, 9, 59, tzinfo=tzutc()), 'date': datetime.datetime(2021, 6, 7, 20, 9, 59, tzinfo=tzutc()), 'text': 'Colonial Pipeline hack was successful despite it originating from a non-sophisticated, non-state backed attacker se... https://t.co/1LhfXxEsaO', 'hashtags': [], 'lang': None, 'profilepic': 'http://pbs.twimg.com/profile_images/1394623455501459459/8CPrz6c2_normal.jpg', 'retweet_count': 0, 'location': 'SoFlo', 'favorite_count': 0, 'is_Verfied': False, 'followers_count': 75, 'joined_in': 'Mon Apr 07 22:43:55 +0000 2014', 'geo': None, 'source': '<a href=\"http://twitter.com/download/iphone\" rel=\"nofollow\">Twitter for iPhone</a>'}\n",
      "{'tweet_id': 1401994872580546564, 'user': 'Nascarmike', 'user_id': 363939534, 'created_at_str': datetime.datetime(2021, 6, 7, 20, 10, tzinfo=tzutc()), 'date': datetime.datetime(2021, 6, 7, 20, 10, tzinfo=tzutc()), 'text': 'RT @TN_DGB_REP: Hey Governor, this Texas resident has the #blockchain solution. @jaredctate made a better #Bitcoin. American made #DigiByte...', 'hashtags': ['blockchain', 'Bitcoin', 'DigiByte'], 'lang': None, 'profilepic': 'http://pbs.twimg.com/profile_images/1362929111774224387/atCDX3ID_normal.jpg', 'retweet_count': 0, 'location': 'Charleston, SC', 'favorite_count': 0, 'is_Verfied': False, 'followers_count': 133, 'joined_in': 'Sun Aug 28 23:19:45 +0000 2011', 'geo': None, 'source': '<a href=\"http://twitter.com/download/iphone\" rel=\"nofollow\">Twitter for iPhone</a>'}\n",
      "{'tweet_id': 1401994873385865224, 'user': 'CBS2Boise', 'user_id': 18923480, 'created_at_str': datetime.datetime(2021, 6, 7, 20, 10, tzinfo=tzutc()), 'date': datetime.datetime(2021, 6, 7, 20, 10, tzinfo=tzutc()), 'text': 'The operation to recover the cryptocurrency from the Russia-based hacker group is believed to be the first of its k... https://t.co/lNgN1dL6eB', 'hashtags': [], 'lang': None, 'profilepic': 'http://pbs.twimg.com/profile_images/1016349389571231744/3TFhmD_p_normal.jpg', 'retweet_count': 0, 'location': 'Boise, ID', 'favorite_count': 0, 'is_Verfied': True, 'followers_count': 33126, 'joined_in': 'Tue Jan 13 01:24:30 +0000 2009', 'geo': None, 'source': '<a href=\"https://about.twitter.com/products/tweetdeck\" rel=\"nofollow\">TweetDeck</a>'}\n",
      "{'tweet_id': 1401994873666998274, 'user': 'djantonypr93', 'user_id': 1111367216379953157, 'created_at_str': datetime.datetime(2021, 6, 7, 20, 10, tzinfo=tzutc()), 'date': datetime.datetime(2021, 6, 7, 20, 10, tzinfo=tzutc()), 'text': '#Bitcoin support right now \\n\\n#btc #cryptocurrency https://t.co/TZZNUBMzcd', 'hashtags': ['Bitcoin', 'btc', 'cryptocurrency'], 'lang': None, 'profilepic': 'http://pbs.twimg.com/profile_images/1111367674410557443/SBBFFhA9_normal.jpg', 'retweet_count': 0, 'location': 'Санкт-Петербург, Россия', 'favorite_count': 0, 'is_Verfied': False, 'followers_count': 0, 'joined_in': 'Thu Mar 28 20:39:27 +0000 2019', 'geo': None, 'source': '<a href=\"http://twitter.com/#!/download/ipad\" rel=\"nofollow\">Twitter for iPad</a>'}\n",
      "{'tweet_id': 1401994877647400960, 'user': 'AlanMoll7', 'user_id': 1291843549546319883, 'created_at_str': datetime.datetime(2021, 6, 7, 20, 10, 1, tzinfo=tzutc()), 'date': datetime.datetime(2021, 6, 7, 20, 10, 1, tzinfo=tzutc()), 'text': 'RT @SaylorMoonArmy: We are pleased to announce our first exchange! Thank you @Lbank_exchange. In few days trading will be operative\\n\\n$SMOON...', 'hashtags': [], 'lang': None, 'profilepic': 'http://pbs.twimg.com/profile_images/1384653443936264193/EEKqg26A_normal.jpg', 'retweet_count': 0, 'location': None, 'favorite_count': 0, 'is_Verfied': False, 'followers_count': 132, 'joined_in': 'Fri Aug 07 21:08:10 +0000 2020', 'geo': None, 'source': '<a href=\"https://mobile.twitter.com\" rel=\"nofollow\">Twitter Web App</a>'}\n",
      "{'tweet_id': 1401994878200909826, 'user': 'BuddaseekerJane', 'user_id': 844062307235778565, 'created_at_str': datetime.datetime(2021, 6, 7, 20, 10, 1, tzinfo=tzutc()), 'date': datetime.datetime(2021, 6, 7, 20, 10, 1, tzinfo=tzutc()), 'text': 'RT @NatashaBertrand: Breaking: US investigators have recovered millions of dollars in cryptocurrency paid in ransom to hackers whose attack...', 'hashtags': [], 'lang': None, 'profilepic': 'http://pbs.twimg.com/profile_images/876601203559235584/uwwPpahD_normal.jpg', 'retweet_count': 0, 'location': None, 'favorite_count': 0, 'is_Verfied': False, 'followers_count': 192, 'joined_in': 'Tue Mar 21 05:45:10 +0000 2017', 'geo': None, 'source': '<a href=\"http://twitter.com/download/iphone\" rel=\"nofollow\">Twitter for iPhone</a>'}\n",
      "{'tweet_id': 1401994879928979459, 'user': 'aadi__yogi', 'user_id': 1394634560512565250, 'created_at_str': datetime.datetime(2021, 6, 7, 20, 10, 1, tzinfo=tzutc()), 'date': datetime.datetime(2021, 6, 7, 20, 10, 1, tzinfo=tzutc()), 'text': 'RT @flurbnb: $200 to one person in 48 hours\\n\\nRetweet &amp;\\n1) Go https://t.co/H0vah1bN2t...\\n3) Tap the star \\n4) Post Proof\\n\\n#cryptocurrency #Cr...', 'hashtags': ['cryptocurrency'], 'lang': None, 'profilepic': 'http://pbs.twimg.com/profile_images/1401223261438939136/YoO-Ao0N_normal.jpg', 'retweet_count': 0, 'location': 'India', 'favorite_count': 0, 'is_Verfied': False, 'followers_count': 103, 'joined_in': 'Tue May 18 12:43:08 +0000 2021', 'geo': None, 'source': '<a href=\"http://twitter.com/download/android\" rel=\"nofollow\">Twitter for Android</a>'}\n",
      "{'tweet_id': 1401994881476829193, 'user': 'AferditaLoki', 'user_id': 1401202333804072965, 'created_at_str': datetime.datetime(2021, 6, 7, 20, 10, 2, tzinfo=tzutc()), 'date': datetime.datetime(2021, 6, 7, 20, 10, 2, tzinfo=tzutc()), 'text': 'RT @safemooncash: 72hours Twitter #Giveaway! \\n200$ x 5 lucky winners! \\n\\n Retweet this Tweet\\n Reply with $SMC #SAFEMOONCASH \\n Follow us...', 'hashtags': ['Giveaway', 'SAFEMOONCASH'], 'lang': None, 'profilepic': 'http://pbs.twimg.com/profile_images/1401967789552943117/HjQtQqTI_normal.jpg', 'retweet_count': 0, 'location': None, 'favorite_count': 0, 'is_Verfied': False, 'followers_count': 0, 'joined_in': 'Sat Jun 05 15:41:01 +0000 2021', 'geo': None, 'source': '<a href=\"http://twitter.com/download/iphone\" rel=\"nofollow\">Twitter for iPhone</a>'}\n",
      "{'tweet_id': 1401994882596605952, 'user': 'kelmanlawcrypto', 'user_id': 1273991249389924352, 'created_at_str': datetime.datetime(2021, 6, 7, 20, 10, 2, tzinfo=tzutc()), 'date': datetime.datetime(2021, 6, 7, 20, 10, 2, tzinfo=tzutc()), 'text': 'Bitcoin users will get help relocating and working in El Salvador: President https://t.co/Es6f5cjYu8 Via... https://t.co/d49Se5V2tu', 'hashtags': [], 'lang': None, 'profilepic': 'http://pbs.twimg.com/profile_images/1274095798826029059/7L_rZYYi_normal.jpg', 'retweet_count': 0, 'location': 'New York & Taipei', 'favorite_count': 0, 'is_Verfied': False, 'followers_count': 778, 'joined_in': 'Fri Jun 19 14:49:47 +0000 2020', 'geo': None, 'source': '<a href=\"https://socialbee.io/\" rel=\"nofollow\">SocialBee.io v2</a>'}\n",
      "{'tweet_id': 1401994883351531523, 'user': 'xcovh', 'user_id': 1373691933424459778, 'created_at_str': datetime.datetime(2021, 6, 7, 20, 10, 2, tzinfo=tzutc()), 'date': datetime.datetime(2021, 6, 7, 20, 10, 2, tzinfo=tzutc()), 'text': \"I found #bitcoin in a User vault at this location! Join me playing #coinhuntworld, It's awesome!... https://t.co/UaaPRPiwJK\", 'hashtags': ['bitcoin', 'coinhuntworld'], 'lang': None, 'profilepic': 'http://pbs.twimg.com/profile_images/1373692214010736640/rICimVo3_normal.jpg', 'retweet_count': 0, 'location': None, 'favorite_count': 0, 'is_Verfied': False, 'followers_count': 7, 'joined_in': 'Sun Mar 21 17:44:23 +0000 2021', 'geo': None, 'source': '<a href=\"http://twitter.com/download/android\" rel=\"nofollow\">Twitter for Android</a>'}\n",
      "{'tweet_id': 1401994883771084801, 'user': 'coinboole', 'user_id': 997947859579428865, 'created_at_str': datetime.datetime(2021, 6, 7, 20, 10, 2, tzinfo=tzutc()), 'date': datetime.datetime(2021, 6, 7, 20, 10, 2, tzinfo=tzutc()), 'text': 'reddit /r/CryptoCurrency DD coin mentions (past hour)\\n\\n#1 Bitcoin: 84 (+25)\\n#2 Ethereum: 38 (+2)\\n#3 VeChain: 9 (... https://t.co/tQe0AiqtNO', 'hashtags': [], 'lang': None, 'profilepic': 'http://pbs.twimg.com/profile_images/1395391768166809602/BlPXZKzr_normal.jpg', 'retweet_count': 0, 'location': 'New York, NY', 'favorite_count': 0, 'is_Verfied': False, 'followers_count': 510, 'joined_in': 'Sat May 19 21:11:25 +0000 2018', 'geo': None, 'source': '<a href=\"https://www.coinboole.com/\" rel=\"nofollow\">coinboole.com bot</a>'}\n"
     ]
    },
    {
     "name": "stdout",
     "output_type": "stream",
     "text": [
      "{'tweet_id': 1401994885138374661, 'user': 'xcovh', 'user_id': 1373691933424459778, 'created_at_str': datetime.datetime(2021, 6, 7, 20, 10, 3, tzinfo=tzutc()), 'date': datetime.datetime(2021, 6, 7, 20, 10, 3, tzinfo=tzutc()), 'text': \"I found #bitcoin in a User vault at this location! Join me playing #coinhuntworld, It's awesome!... https://t.co/XzydnK0rKZ\", 'hashtags': ['bitcoin', 'coinhuntworld'], 'lang': None, 'profilepic': 'http://pbs.twimg.com/profile_images/1373692214010736640/rICimVo3_normal.jpg', 'retweet_count': 0, 'location': None, 'favorite_count': 0, 'is_Verfied': False, 'followers_count': 7, 'joined_in': 'Sun Mar 21 17:44:23 +0000 2021', 'geo': None, 'source': '<a href=\"http://twitter.com/download/android\" rel=\"nofollow\">Twitter for Android</a>'}\n",
      "{'tweet_id': 1401994886539321346, 'user': 'BitconBot', 'user_id': 1349533110606716930, 'created_at_str': datetime.datetime(2021, 6, 7, 20, 10, 3, tzinfo=tzutc()), 'date': datetime.datetime(2021, 6, 7, 20, 10, 3, tzinfo=tzutc()), 'text': 'Current Bitcoin Price:\\nUSD $35,592.73\\nGBP PS25,095.61\\nEuro EUR29,188.21\\n#bitcoin #btc $btc #btcusd #btcgbp #btceur #crypto #cryptocurrency', 'hashtags': ['bitcoin', 'btc', 'btcusd', 'btcgbp', 'btceur', 'crypto', 'cryptocurrency'], 'lang': None, 'profilepic': 'http://pbs.twimg.com/profile_images/1350520651178766338/ecb6A38C_normal.jpg', 'retweet_count': 0, 'location': 'Everywhere', 'favorite_count': 0, 'is_Verfied': False, 'followers_count': 61, 'joined_in': 'Thu Jan 14 01:46:09 +0000 2021', 'geo': None, 'source': '<a href=\"https://help.twitter.com/en/using-twitter/how-to-tweet#source-labels\" rel=\"nofollow\">bitcoin_bot1</a>'}\n",
      "{'tweet_id': 1401994887004835847, 'user': 'Yakupova_E', 'user_id': 510936690, 'created_at_str': datetime.datetime(2021, 6, 7, 20, 10, 3, tzinfo=tzutc()), 'date': datetime.datetime(2021, 6, 7, 20, 10, 3, tzinfo=tzutc()), 'text': 'Thank you for following me. In the cryptocurrency world, you are very different to me @justinsuntron \\n\\n#TRON #TRX... https://t.co/hy7YshSOgi', 'hashtags': ['TRON', 'TRX'], 'lang': None, 'profilepic': 'http://pbs.twimg.com/profile_images/1392211409975529476/p1RJEonG_normal.jpg', 'retweet_count': 0, 'location': None, 'favorite_count': 0, 'is_Verfied': False, 'followers_count': 2611, 'joined_in': 'Thu Mar 01 22:12:52 +0000 2012', 'geo': None, 'source': '<a href=\"https://mobile.twitter.com\" rel=\"nofollow\">Twitter Web App</a>'}\n",
      "{'tweet_id': 1401994886774202373, 'user': 'ZKelman', 'user_id': 336257832, 'created_at_str': datetime.datetime(2021, 6, 7, 20, 10, 3, tzinfo=tzutc()), 'date': datetime.datetime(2021, 6, 7, 20, 10, 3, tzinfo=tzutc()), 'text': \"BoE tackles 'difficult and pertinent' questions about digital money https://t.co/00NAd9wEfl Via @cointelegraph... https://t.co/E8uuLVolHR\", 'hashtags': [], 'lang': None, 'profilepic': 'http://pbs.twimg.com/profile_images/1211701576856817664/i1qOY_ph_normal.jpg', 'retweet_count': 0, 'location': 'Manhattan, NY', 'favorite_count': 0, 'is_Verfied': False, 'followers_count': 1656, 'joined_in': 'Sat Jul 16 00:31:50 +0000 2011', 'geo': None, 'source': '<a href=\"https://socialbee.io/\" rel=\"nofollow\">SocialBee.io v2</a>'}\n",
      "{'tweet_id': 1401994887558537220, 'user': 'Cybersecinsider', 'user_id': 810854024769576960, 'created_at_str': datetime.datetime(2021, 6, 7, 20, 10, 3, tzinfo=tzutc()), 'date': datetime.datetime(2021, 6, 7, 20, 10, 3, tzinfo=tzutc()), 'text': 'Cryptocurrency trading bots: Strengthening Cybersecurity and minimizing risks  https://t.co/vwaaVswuy4 Source:... https://t.co/q2sACEQrYx', 'hashtags': [], 'lang': None, 'profilepic': 'http://pbs.twimg.com/profile_images/895506383654735873/gqkCWjab_normal.jpg', 'retweet_count': 0, 'location': 'United States', 'favorite_count': 0, 'is_Verfied': False, 'followers_count': 8354, 'joined_in': 'Mon Dec 19 14:27:19 +0000 2016', 'geo': None, 'source': '<a href=\"https://www.hootsuite.com\" rel=\"nofollow\">Hootsuite Inc.</a>'}\n",
      "{'tweet_id': 1401994892159586304, 'user': 'KevJourno', 'user_id': 366327979, 'created_at_str': datetime.datetime(2021, 6, 7, 20, 10, 4, tzinfo=tzutc()), 'date': datetime.datetime(2021, 6, 7, 20, 10, 4, tzinfo=tzutc()), 'text': 'RT @JonLemire: WASHINGTON (AP) -- Law enforcement official: US officials have seized cryptocurrency payment that was made after Colonial Pip...', 'hashtags': [], 'lang': None, 'profilepic': 'http://pbs.twimg.com/profile_images/1325293266342879232/6n2vZXso_normal.jpg', 'retweet_count': 0, 'location': 'Kirkland, WA', 'favorite_count': 0, 'is_Verfied': False, 'followers_count': 880, 'joined_in': 'Fri Sep 02 00:08:48 +0000 2011', 'geo': None, 'source': '<a href=\"http://twitter.com/download/iphone\" rel=\"nofollow\">Twitter for iPhone</a>'}\n",
      "{'tweet_id': 1401994891882811401, 'user': 'fossbytes14', 'user_id': 2721912984, 'created_at_str': datetime.datetime(2021, 6, 7, 20, 10, 4, tzinfo=tzutc()), 'date': datetime.datetime(2021, 6, 7, 20, 10, 4, tzinfo=tzutc()), 'text': 'Changpeng Zhao, the founder and CEO of cryptocurrency exchange Binance, stated in a tweet that he does not have Tik... https://t.co/P6lRLcRaE8', 'hashtags': [], 'lang': None, 'profilepic': 'http://pbs.twimg.com/profile_images/1348962668552441859/7rhFp2e0_normal.jpg', 'retweet_count': 0, 'location': 'India', 'favorite_count': 0, 'is_Verfied': False, 'followers_count': 13434, 'joined_in': 'Sun Aug 10 16:02:09 +0000 2014', 'geo': None, 'source': '<a href=\"https://buffer.com\" rel=\"nofollow\">Buffer</a>'}\n",
      "{'tweet_id': 1401994895229865986, 'user': 'hoflolz', 'user_id': 55544099, 'created_at_str': datetime.datetime(2021, 6, 7, 20, 10, 5, tzinfo=tzutc()), 'date': datetime.datetime(2021, 6, 7, 20, 10, 5, tzinfo=tzutc()), 'text': \"Saving this thread to share with people every time they ask me why I don't believe in crypto currency \", 'hashtags': [], 'lang': None, 'profilepic': 'http://pbs.twimg.com/profile_images/1271404071350677504/sDcIb9wO_normal.jpg', 'retweet_count': 0, 'location': 'Islamabad, Pakistan', 'favorite_count': 0, 'is_Verfied': False, 'followers_count': 9197, 'joined_in': 'Fri Jul 10 12:12:41 +0000 2009', 'geo': None, 'source': '<a href=\"http://twitter.com/download/iphone\" rel=\"nofollow\">Twitter for iPhone</a>'}\n",
      "{'tweet_id': 1401994901097615360, 'user': 'Gman19701974', 'user_id': 2282415739, 'created_at_str': datetime.datetime(2021, 6, 7, 20, 10, 6, tzinfo=tzutc()), 'date': datetime.datetime(2021, 6, 7, 20, 10, 6, tzinfo=tzutc()), 'text': 'RT @NatashaBertrand: Breaking: US investigators have recovered millions of dollars in cryptocurrency paid in ransom to hackers whose attack...', 'hashtags': [], 'lang': None, 'profilepic': 'http://abs.twimg.com/sticky/default_profile_images/default_profile_normal.png', 'retweet_count': 0, 'location': None, 'favorite_count': 0, 'is_Verfied': False, 'followers_count': 122, 'joined_in': 'Wed Jan 08 17:03:49 +0000 2014', 'geo': None, 'source': '<a href=\"http://twitter.com/download/iphone\" rel=\"nofollow\">Twitter for iPhone</a>'}\n",
      "{'tweet_id': 1401994900846088205, 'user': 'cryptocoinboom', 'user_id': 1353712118684639240, 'created_at_str': datetime.datetime(2021, 6, 7, 20, 10, 6, tzinfo=tzutc()), 'date': datetime.datetime(2021, 6, 7, 20, 10, 6, tzinfo=tzutc()), 'text': \"CRYPTO NEWS:  New #Bitcoin price concerns from #JPMorgan at odds with 'immense support' at $52K... https://t.co/0lC65f471f\", 'hashtags': ['Bitcoin', 'JPMorgan'], 'lang': None, 'profilepic': 'http://pbs.twimg.com/profile_images/1353712245541392386/l7yPJ5sQ_normal.jpg', 'retweet_count': 0, 'location': 'Los Angeles, California, USA', 'favorite_count': 0, 'is_Verfied': False, 'followers_count': 14, 'joined_in': 'Mon Jan 25 14:31:48 +0000 2021', 'geo': None, 'source': '<a href=\"https://revive.social/\" rel=\"nofollow\">Revive Social App</a>'}\n",
      "{'tweet_id': 1401994901802340360, 'user': 'SOULMATESMATTER', 'user_id': 1375345900462161925, 'created_at_str': datetime.datetime(2021, 6, 7, 20, 10, 7, tzinfo=tzutc()), 'date': datetime.datetime(2021, 6, 7, 20, 10, 7, tzinfo=tzutc()), 'text': 'RT @BagdMilkSoWhat: Trump would have redirected that money back into his personal accounts', 'hashtags': [], 'lang': None, 'profilepic': 'http://pbs.twimg.com/profile_images/1400290567871946752/oTAvQZGe_normal.jpg', 'retweet_count': 0, 'location': 'TN', 'favorite_count': 0, 'is_Verfied': False, 'followers_count': 502, 'joined_in': 'Fri Mar 26 07:16:46 +0000 2021', 'geo': None, 'source': '<a href=\"http://twitter.com/download/android\" rel=\"nofollow\">Twitter for Android</a>'}\n"
     ]
    },
    {
     "name": "stdout",
     "output_type": "stream",
     "text": [
      "{'tweet_id': 1401994903064879105, 'user': 'PaingKh18202914', 'user_id': 1399892221848178690, 'created_at_str': datetime.datetime(2021, 6, 7, 20, 10, 7, tzinfo=tzutc()), 'date': datetime.datetime(2021, 6, 7, 20, 10, 7, tzinfo=tzutc()), 'text': 'RT @AirdropStario:  SpearMoon Airdrop\\n\\n Task:            Up to 920M SPRM (~$46)\\n\\n Referral:    50M SPRM (~$2.5)\\n\\n Airdrop Link &amp;...', 'hashtags': [], 'lang': None, 'profilepic': 'http://pbs.twimg.com/profile_images/1401944581231550468/_zZ6DMVa_normal.jpg', 'retweet_count': 0, 'location': None, 'favorite_count': 0, 'is_Verfied': False, 'followers_count': 13, 'joined_in': 'Wed Jun 02 00:55:19 +0000 2021', 'geo': None, 'source': '<a href=\"http://twitter.com/download/android\" rel=\"nofollow\">Twitter for Android</a>'}\n",
      "{'tweet_id': 1401994904096546816, 'user': 'SherriM14211711', 'user_id': 1397171225370107908, 'created_at_str': datetime.datetime(2021, 6, 7, 20, 10, 7, tzinfo=tzutc()), 'date': datetime.datetime(2021, 6, 7, 20, 10, 7, tzinfo=tzutc()), 'text': 'sudo apt install git -y', 'hashtags': [], 'lang': None, 'profilepic': 'http://abs.twimg.com/sticky/default_profile_images/default_profile_normal.png', 'retweet_count': 0, 'location': None, 'favorite_count': 0, 'is_Verfied': False, 'followers_count': 0, 'joined_in': 'Tue May 25 12:42:48 +0000 2021', 'geo': None, 'source': '<a href=\"https://mobile.twitter.com\" rel=\"nofollow\">Twitter Web App</a>'}\n",
      "{'tweet_id': 1401994904851603464, 'user': 'bitcoinagile', 'user_id': 2281314234, 'created_at_str': datetime.datetime(2021, 6, 7, 20, 10, 7, tzinfo=tzutc()), 'date': datetime.datetime(2021, 6, 7, 20, 10, 7, tzinfo=tzutc()), 'text': 'DOJ says it has recovered millions in cryptocurrency ransom paid to Colonial Pipeline https://t.co/8CahiTefr1 https://t.co/sCvSyuL1Gd', 'hashtags': [], 'lang': None, 'profilepic': 'http://pbs.twimg.com/profile_images/902617531109617665/-5e-1IJw_normal.jpg', 'retweet_count': 0, 'location': \"Matter Doesn't Matter\", 'favorite_count': 0, 'is_Verfied': False, 'followers_count': 58666, 'joined_in': 'Tue Jan 07 23:52:46 +0000 2014', 'geo': None, 'source': '<a href=\"http://bitcoinagile.com\" rel=\"nofollow\">bitcoinagile</a>'}\n",
      "{'tweet_id': 1401994909121384449, 'user': 'Rajeshsapkal19', 'user_id': 1310949708475568129, 'created_at_str': datetime.datetime(2021, 6, 7, 20, 10, 8, tzinfo=tzutc()), 'date': datetime.datetime(2021, 6, 7, 20, 10, 8, tzinfo=tzutc()), 'text': \"RT @CanaryDex: You can earn up to 1600%  APY income by farming in Canary's CNR pools \\n\\n#Avalanche $Avax $CNR #DeFi #DEX #AMM #cryptocurre...\", 'hashtags': ['Avalanche', 'DeFi', 'DEX', 'AMM'], 'lang': None, 'profilepic': 'http://pbs.twimg.com/profile_images/1365325639578976259/lkqSUv-k_normal.jpg', 'retweet_count': 0, 'location': 'Bhopal', 'favorite_count': 0, 'is_Verfied': False, 'followers_count': 38, 'joined_in': 'Tue Sep 29 14:29:22 +0000 2020', 'geo': None, 'source': '<a href=\"https://mobile.twitter.com\" rel=\"nofollow\">Twitter Web App</a>'}\n",
      "{'tweet_id': 1401994916180500482, 'user': 'Kzh36123332', 'user_id': 1401953082083360771, 'created_at_str': datetime.datetime(2021, 6, 7, 20, 10, 10, tzinfo=tzutc()), 'date': datetime.datetime(2021, 6, 7, 20, 10, 10, tzinfo=tzutc()), 'text': \"RT @CoinMarketCap: Google's New Crypto Ad Policy: Nope! \\n\\n#CoinMarketCap #Crypto #Cryptocurrency #Bitcoin #Altcoin #DeFi #Ethereum #Dogeco...\", 'hashtags': ['CoinMarketCap', 'Crypto', 'Cryptocurrency', 'Bitcoin', 'Altcoin', 'DeFi', 'Ethereum'], 'lang': None, 'profilepic': 'http://abs.twimg.com/sticky/default_profile_images/default_profile_normal.png', 'retweet_count': 0, 'location': None, 'favorite_count': 0, 'is_Verfied': False, 'followers_count': 1, 'joined_in': 'Mon Jun 07 17:24:54 +0000 2021', 'geo': None, 'source': '<a href=\"http://twitter.com/download/android\" rel=\"nofollow\">Twitter for Android</a>'}\n",
      "{'tweet_id': 1401994919854620679, 'user': 'm_brennan_edit', 'user_id': 28051145, 'created_at_str': datetime.datetime(2021, 6, 7, 20, 10, 11, tzinfo=tzutc()), 'date': datetime.datetime(2021, 6, 7, 20, 10, 11, tzinfo=tzutc()), 'text': 'RT @NatashaBertrand: Breaking: US investigators have recovered millions of dollars in cryptocurrency paid in ransom to hackers whose attack...', 'hashtags': [], 'lang': None, 'profilepic': 'http://pbs.twimg.com/profile_images/1241505592340099075/cqY3VugR_normal.jpg', 'retweet_count': 0, 'location': None, 'favorite_count': 0, 'is_Verfied': False, 'followers_count': 641, 'joined_in': 'Wed Apr 01 04:32:50 +0000 2009', 'geo': None, 'source': '<a href=\"http://twitter.com/download/android\" rel=\"nofollow\">Twitter for Android</a>'}\n",
      "{'tweet_id': 1401994921054281731, 'user': 'pedroex3', 'user_id': 4129836976, 'created_at_str': datetime.datetime(2021, 6, 7, 20, 10, 11, tzinfo=tzutc()), 'date': datetime.datetime(2021, 6, 7, 20, 10, 11, tzinfo=tzutc()), 'text': 'RT @OszczedaDorian: @AltcoinDailyio Outside funding\\nGet rich quick mindset\\nSlacking\\nCopying\\n\\n3 years in the making\\nInnovative\\nHard-w...', 'hashtags': [], 'lang': None, 'profilepic': 'http://pbs.twimg.com/profile_images/732415729694298112/V_LBYoSS_normal.jpg', 'retweet_count': 0, 'location': None, 'favorite_count': 0, 'is_Verfied': False, 'followers_count': 826, 'joined_in': 'Fri Nov 06 22:17:38 +0000 2015', 'geo': None, 'source': '<a href=\"http://twitter.com/download/android\" rel=\"nofollow\">Twitter for Android</a>'}\n",
      "{'tweet_id': 1401994922333507589, 'user': 'tedillonMD', 'user_id': 33290438, 'created_at_str': datetime.datetime(2021, 6, 7, 20, 10, 11, tzinfo=tzutc()), 'date': datetime.datetime(2021, 6, 7, 20, 10, 11, tzinfo=tzutc()), 'text': \"RT @pkedrosky: I don't get out much, but .... isn't the whole point of crypto its untraceable you-can't-catch-me-ish-ness? Without that isn...\", 'hashtags': [], 'lang': None, 'profilepic': 'http://pbs.twimg.com/profile_images/625118106441097217/rcgcshO8_normal.jpg', 'retweet_count': 0, 'location': 'Richmond, Va. USA', 'favorite_count': 0, 'is_Verfied': False, 'followers_count': 72, 'joined_in': 'Sun Apr 19 19:37:55 +0000 2009', 'geo': None, 'source': '<a href=\"http://twitter.com/download/iphone\" rel=\"nofollow\">Twitter for iPhone</a>'}\n",
      "{'tweet_id': 1401994922740224000, 'user': 'AnisFadil', 'user_id': 94948749, 'created_at_str': datetime.datetime(2021, 6, 7, 20, 10, 12, tzinfo=tzutc()), 'date': datetime.datetime(2021, 6, 7, 20, 10, 12, tzinfo=tzutc()), 'text': 'RT @flurbnb: $500 to one person in 48 hours\\n\\nRetweet &amp; follow @UplandMe \\n\\n#metaverse #nft #nfts #crypto #decentralization #Decentraland #cr...', 'hashtags': ['metaverse', 'nft', 'nfts', 'crypto', 'decentralization', 'Decentraland'], 'lang': None, 'profilepic': 'http://pbs.twimg.com/profile_images/1401347489509240832/QfcootDM_normal.jpg', 'retweet_count': 0, 'location': 'Dari Allah kembali ke Allah.', 'favorite_count': 0, 'is_Verfied': False, 'followers_count': 1603, 'joined_in': 'Sun Dec 06 06:23:23 +0000 2009', 'geo': None, 'source': '<a href=\"http://twitter.com/download/iphone\" rel=\"nofollow\">Twitter for iPhone</a>'}\n",
      "{'tweet_id': 1401994924296450048, 'user': 'tommy_corner', 'user_id': 1319946027852550144, 'created_at_str': datetime.datetime(2021, 6, 7, 20, 10, 12, tzinfo=tzutc()), 'date': datetime.datetime(2021, 6, 7, 20, 10, 12, tzinfo=tzutc()), 'text': 'RT @JavierGoya7: \"There is no place beyond the reach of the FBI to conceal illicit funds that will prevent us from imposing risk and conseq...', 'hashtags': [], 'lang': None, 'profilepic': 'http://pbs.twimg.com/profile_images/1388927544699801600/ei8Ug-Rs_normal.jpg', 'retweet_count': 0, 'location': None, 'favorite_count': 0, 'is_Verfied': False, 'followers_count': 1507, 'joined_in': 'Sat Oct 24 10:17:29 +0000 2020', 'geo': None, 'source': '<a href=\"http://twitter.com/download/iphone\" rel=\"nofollow\">Twitter for iPhone</a>'}\n",
      "{'tweet_id': 1401994924543905793, 'user': 'Middlem34297788', 'user_id': 1368219445051686915, 'created_at_str': datetime.datetime(2021, 6, 7, 20, 10, 12, tzinfo=tzutc()), 'date': datetime.datetime(2021, 6, 7, 20, 10, 12, tzinfo=tzutc()), 'text': 'Exactly!\\n#cryptocurrency', 'hashtags': ['cryptocurrency'], 'lang': None, 'profilepic': 'http://pbs.twimg.com/profile_images/1368220293710364675/qwCIm6-K_normal.jpg', 'retweet_count': 0, 'location': 'Your Thoughts', 'favorite_count': 0, 'is_Verfied': False, 'followers_count': 26, 'joined_in': 'Sat Mar 06 15:18:53 +0000 2021', 'geo': None, 'source': '<a href=\"http://twitter.com/download/android\" rel=\"nofollow\">Twitter for Android</a>'}\n",
      "{'tweet_id': 1401994925026205703, 'user': 'hooksZero24', 'user_id': 1317098381982957574, 'created_at_str': datetime.datetime(2021, 6, 7, 20, 10, 12, tzinfo=tzutc()), 'date': datetime.datetime(2021, 6, 7, 20, 10, 12, tzinfo=tzutc()), 'text': 'RT @Sudbury_Mike: Yeah! Joe Bidens team not only stopped the ransom ware team from that hack on the pipeline, they got all the cryptocurren...', 'hashtags': [], 'lang': None, 'profilepic': 'http://pbs.twimg.com/profile_images/1317236460232314885/qPVDVe3b_normal.jpg', 'retweet_count': 0, 'location': 'Planet Earth', 'favorite_count': 0, 'is_Verfied': False, 'followers_count': 299, 'joined_in': 'Fri Oct 16 13:41:50 +0000 2020', 'geo': None, 'source': '<a href=\"http://twitter.com/download/iphone\" rel=\"nofollow\">Twitter for iPhone</a>'}\n"
     ]
    },
    {
     "name": "stdout",
     "output_type": "stream",
     "text": [
      "{'tweet_id': 1401994926649331722, 'user': 'tcurwin', 'user_id': 14244850, 'created_at_str': datetime.datetime(2021, 6, 7, 20, 10, 12, tzinfo=tzutc()), 'date': datetime.datetime(2021, 6, 7, 20, 10, 12, tzinfo=tzutc()), 'text': '@tyler I think the state is at the table: https://t.co/6hcEkY5w2T', 'hashtags': [], 'lang': None, 'profilepic': 'http://pbs.twimg.com/profile_images/916259582938353664/YjQLzo2G_normal.jpg', 'retweet_count': 0, 'location': 'San Francisco, CA', 'favorite_count': 0, 'is_Verfied': False, 'followers_count': 719, 'joined_in': 'Fri Mar 28 16:24:36 +0000 2008', 'geo': None, 'source': '<a href=\"http://twitter.com/download/iphone\" rel=\"nofollow\">Twitter for iPhone</a>'}\n",
      "{'tweet_id': 1401994928356413440, 'user': 'olystubbies44', 'user_id': 36956124, 'created_at_str': datetime.datetime(2021, 6, 7, 20, 10, 13, tzinfo=tzutc()), 'date': datetime.datetime(2021, 6, 7, 20, 10, 13, tzinfo=tzutc()), 'text': \"RT @ScottTBrower1: Is this the same FBI that can't break into an iPhone w/o Apple's help?\", 'hashtags': [], 'lang': None, 'profilepic': 'http://pbs.twimg.com/profile_images/1090734840977096706/FmBmgrwi_normal.jpg', 'retweet_count': 0, 'location': None, 'favorite_count': 0, 'is_Verfied': False, 'followers_count': 1688, 'joined_in': 'Fri May 01 14:42:40 +0000 2009', 'geo': None, 'source': '<a href=\"http://twitter.com/download/iphone\" rel=\"nofollow\">Twitter for iPhone</a>'}\n",
      "{'tweet_id': 1401994929589600259, 'user': 'JforDemocracy', 'user_id': 786289196390547456, 'created_at_str': datetime.datetime(2021, 6, 7, 20, 10, 13, tzinfo=tzutc()), 'date': datetime.datetime(2021, 6, 7, 20, 10, 13, tzinfo=tzutc()), 'text': 'RT @NCSCgov: Department of Justice Seizes $2.3 Million in Cryptocurrency Paid to the Ransomware Extortionists Darkside https://t.co/h7D4KJG...', 'hashtags': [], 'lang': None, 'profilepic': 'http://pbs.twimg.com/profile_images/1391489240073216002/tH4Gltg0_normal.jpg', 'retweet_count': 0, 'location': None, 'favorite_count': 0, 'is_Verfied': False, 'followers_count': 583, 'joined_in': 'Wed Oct 12 19:35:27 +0000 2016', 'geo': None, 'source': '<a href=\"http://twitter.com/download/iphone\" rel=\"nofollow\">Twitter for iPhone</a>'}\n",
      "{'tweet_id': 1401994932076826626, 'user': 'ethereum_max', 'user_id': 1390117603125956610, 'created_at_str': datetime.datetime(2021, 6, 7, 20, 10, 14, tzinfo=tzutc()), 'date': datetime.datetime(2021, 6, 7, 20, 10, 14, tzinfo=tzutc()), 'text': '$eMax is one of the #1 trending tokens in cryptocurrency according to @kpvinews \\n\\nCurrent Exchanges $eMax is on:... https://t.co/J0UjpOGJEX', 'hashtags': [], 'lang': None, 'profilepic': 'http://pbs.twimg.com/profile_images/1395916052354191367/QPy9-GqU_normal.jpg', 'retweet_count': 0, 'location': 'Ethereum Blockchain Network', 'favorite_count': 0, 'is_Verfied': False, 'followers_count': 21211, 'joined_in': 'Thu May 06 01:34:05 +0000 2021', 'geo': None, 'source': '<a href=\"http://twitter.com/download/iphone\" rel=\"nofollow\">Twitter for iPhone</a>'}\n",
      "{'tweet_id': 1401994934266302468, 'user': 'Prophetic_Truth', 'user_id': 1316132780066172929, 'created_at_str': datetime.datetime(2021, 6, 7, 20, 10, 14, tzinfo=tzutc()), 'date': datetime.datetime(2021, 6, 7, 20, 10, 14, tzinfo=tzutc()), 'text': '@AP I keep telling people cryptocurrency is about to get banned in the US.', 'hashtags': [], 'lang': None, 'profilepic': 'http://pbs.twimg.com/profile_images/1316133054612725762/lDTyKvW3_normal.jpg', 'retweet_count': 0, 'location': None, 'favorite_count': 0, 'is_Verfied': False, 'followers_count': 8, 'joined_in': 'Tue Oct 13 21:45:03 +0000 2020', 'geo': None, 'source': '<a href=\"http://twitter.com/download/iphone\" rel=\"nofollow\">Twitter for iPhone</a>'}\n"
     ]
    }
   ],
   "source": [
    "stream = MyStreamer(APP_KEY, APP_SECRET, OAUTH_TOKEN, OAUTH_TOKEN_SECRET)\n",
    "stream.statuses.filter(track='cryptocurrency')"
   ]
  },
  {
   "cell_type": "code",
   "execution_count": 31,
   "id": "225240f8",
   "metadata": {},
   "outputs": [],
   "source": [
    "import pandas as pd"
   ]
  },
  {
   "cell_type": "code",
   "execution_count": 32,
   "id": "50c002c7",
   "metadata": {},
   "outputs": [
    {
     "ename": "ParserError",
     "evalue": "Error tokenizing data. C error: Expected 8 fields in line 4, saw 14\n",
     "output_type": "error",
     "traceback": [
      "\u001b[0;31m---------------------------------------------------------------------------\u001b[0m",
      "\u001b[0;31mParserError\u001b[0m                               Traceback (most recent call last)",
      "\u001b[0;32m<ipython-input-32-3f177b3fcedf>\u001b[0m in \u001b[0;36m<module>\u001b[0;34m\u001b[0m\n\u001b[0;32m----> 1\u001b[0;31m \u001b[0mdata\u001b[0m \u001b[0;34m=\u001b[0m \u001b[0mpd\u001b[0m\u001b[0;34m.\u001b[0m\u001b[0mread_csv\u001b[0m\u001b[0;34m(\u001b[0m\u001b[0;34m'mm.csv'\u001b[0m\u001b[0;34m)\u001b[0m\u001b[0;34m\u001b[0m\u001b[0;34m\u001b[0m\u001b[0m\n\u001b[0m\u001b[1;32m      2\u001b[0m \u001b[0mdata\u001b[0m\u001b[0;34m.\u001b[0m\u001b[0mshape\u001b[0m\u001b[0;34m\u001b[0m\u001b[0;34m\u001b[0m\u001b[0m\n",
      "\u001b[0;32m~/Documents/projectpyspark/pyspark_venv/lib/python3.8/site-packages/pandas/io/parsers.py\u001b[0m in \u001b[0;36mread_csv\u001b[0;34m(filepath_or_buffer, sep, delimiter, header, names, index_col, usecols, squeeze, prefix, mangle_dupe_cols, dtype, engine, converters, true_values, false_values, skipinitialspace, skiprows, skipfooter, nrows, na_values, keep_default_na, na_filter, verbose, skip_blank_lines, parse_dates, infer_datetime_format, keep_date_col, date_parser, dayfirst, cache_dates, iterator, chunksize, compression, thousands, decimal, lineterminator, quotechar, quoting, doublequote, escapechar, comment, encoding, dialect, error_bad_lines, warn_bad_lines, delim_whitespace, low_memory, memory_map, float_precision, storage_options)\u001b[0m\n\u001b[1;32m    608\u001b[0m     \u001b[0mkwds\u001b[0m\u001b[0;34m.\u001b[0m\u001b[0mupdate\u001b[0m\u001b[0;34m(\u001b[0m\u001b[0mkwds_defaults\u001b[0m\u001b[0;34m)\u001b[0m\u001b[0;34m\u001b[0m\u001b[0;34m\u001b[0m\u001b[0m\n\u001b[1;32m    609\u001b[0m \u001b[0;34m\u001b[0m\u001b[0m\n\u001b[0;32m--> 610\u001b[0;31m     \u001b[0;32mreturn\u001b[0m \u001b[0m_read\u001b[0m\u001b[0;34m(\u001b[0m\u001b[0mfilepath_or_buffer\u001b[0m\u001b[0;34m,\u001b[0m \u001b[0mkwds\u001b[0m\u001b[0;34m)\u001b[0m\u001b[0;34m\u001b[0m\u001b[0;34m\u001b[0m\u001b[0m\n\u001b[0m\u001b[1;32m    611\u001b[0m \u001b[0;34m\u001b[0m\u001b[0m\n\u001b[1;32m    612\u001b[0m \u001b[0;34m\u001b[0m\u001b[0m\n",
      "\u001b[0;32m~/Documents/projectpyspark/pyspark_venv/lib/python3.8/site-packages/pandas/io/parsers.py\u001b[0m in \u001b[0;36m_read\u001b[0;34m(filepath_or_buffer, kwds)\u001b[0m\n\u001b[1;32m    466\u001b[0m \u001b[0;34m\u001b[0m\u001b[0m\n\u001b[1;32m    467\u001b[0m     \u001b[0;32mwith\u001b[0m \u001b[0mparser\u001b[0m\u001b[0;34m:\u001b[0m\u001b[0;34m\u001b[0m\u001b[0;34m\u001b[0m\u001b[0m\n\u001b[0;32m--> 468\u001b[0;31m         \u001b[0;32mreturn\u001b[0m \u001b[0mparser\u001b[0m\u001b[0;34m.\u001b[0m\u001b[0mread\u001b[0m\u001b[0;34m(\u001b[0m\u001b[0mnrows\u001b[0m\u001b[0;34m)\u001b[0m\u001b[0;34m\u001b[0m\u001b[0;34m\u001b[0m\u001b[0m\n\u001b[0m\u001b[1;32m    469\u001b[0m \u001b[0;34m\u001b[0m\u001b[0m\n\u001b[1;32m    470\u001b[0m \u001b[0;34m\u001b[0m\u001b[0m\n",
      "\u001b[0;32m~/Documents/projectpyspark/pyspark_venv/lib/python3.8/site-packages/pandas/io/parsers.py\u001b[0m in \u001b[0;36mread\u001b[0;34m(self, nrows)\u001b[0m\n\u001b[1;32m   1055\u001b[0m     \u001b[0;32mdef\u001b[0m \u001b[0mread\u001b[0m\u001b[0;34m(\u001b[0m\u001b[0mself\u001b[0m\u001b[0;34m,\u001b[0m \u001b[0mnrows\u001b[0m\u001b[0;34m=\u001b[0m\u001b[0;32mNone\u001b[0m\u001b[0;34m)\u001b[0m\u001b[0;34m:\u001b[0m\u001b[0;34m\u001b[0m\u001b[0;34m\u001b[0m\u001b[0m\n\u001b[1;32m   1056\u001b[0m         \u001b[0mnrows\u001b[0m \u001b[0;34m=\u001b[0m \u001b[0mvalidate_integer\u001b[0m\u001b[0;34m(\u001b[0m\u001b[0;34m\"nrows\"\u001b[0m\u001b[0;34m,\u001b[0m \u001b[0mnrows\u001b[0m\u001b[0;34m)\u001b[0m\u001b[0;34m\u001b[0m\u001b[0;34m\u001b[0m\u001b[0m\n\u001b[0;32m-> 1057\u001b[0;31m         \u001b[0mindex\u001b[0m\u001b[0;34m,\u001b[0m \u001b[0mcolumns\u001b[0m\u001b[0;34m,\u001b[0m \u001b[0mcol_dict\u001b[0m \u001b[0;34m=\u001b[0m \u001b[0mself\u001b[0m\u001b[0;34m.\u001b[0m\u001b[0m_engine\u001b[0m\u001b[0;34m.\u001b[0m\u001b[0mread\u001b[0m\u001b[0;34m(\u001b[0m\u001b[0mnrows\u001b[0m\u001b[0;34m)\u001b[0m\u001b[0;34m\u001b[0m\u001b[0;34m\u001b[0m\u001b[0m\n\u001b[0m\u001b[1;32m   1058\u001b[0m \u001b[0;34m\u001b[0m\u001b[0m\n\u001b[1;32m   1059\u001b[0m         \u001b[0;32mif\u001b[0m \u001b[0mindex\u001b[0m \u001b[0;32mis\u001b[0m \u001b[0;32mNone\u001b[0m\u001b[0;34m:\u001b[0m\u001b[0;34m\u001b[0m\u001b[0;34m\u001b[0m\u001b[0m\n",
      "\u001b[0;32m~/Documents/projectpyspark/pyspark_venv/lib/python3.8/site-packages/pandas/io/parsers.py\u001b[0m in \u001b[0;36mread\u001b[0;34m(self, nrows)\u001b[0m\n\u001b[1;32m   2059\u001b[0m     \u001b[0;32mdef\u001b[0m \u001b[0mread\u001b[0m\u001b[0;34m(\u001b[0m\u001b[0mself\u001b[0m\u001b[0;34m,\u001b[0m \u001b[0mnrows\u001b[0m\u001b[0;34m=\u001b[0m\u001b[0;32mNone\u001b[0m\u001b[0;34m)\u001b[0m\u001b[0;34m:\u001b[0m\u001b[0;34m\u001b[0m\u001b[0;34m\u001b[0m\u001b[0m\n\u001b[1;32m   2060\u001b[0m         \u001b[0;32mtry\u001b[0m\u001b[0;34m:\u001b[0m\u001b[0;34m\u001b[0m\u001b[0;34m\u001b[0m\u001b[0m\n\u001b[0;32m-> 2061\u001b[0;31m             \u001b[0mdata\u001b[0m \u001b[0;34m=\u001b[0m \u001b[0mself\u001b[0m\u001b[0;34m.\u001b[0m\u001b[0m_reader\u001b[0m\u001b[0;34m.\u001b[0m\u001b[0mread\u001b[0m\u001b[0;34m(\u001b[0m\u001b[0mnrows\u001b[0m\u001b[0;34m)\u001b[0m\u001b[0;34m\u001b[0m\u001b[0;34m\u001b[0m\u001b[0m\n\u001b[0m\u001b[1;32m   2062\u001b[0m         \u001b[0;32mexcept\u001b[0m \u001b[0mStopIteration\u001b[0m\u001b[0;34m:\u001b[0m\u001b[0;34m\u001b[0m\u001b[0;34m\u001b[0m\u001b[0m\n\u001b[1;32m   2063\u001b[0m             \u001b[0;32mif\u001b[0m \u001b[0mself\u001b[0m\u001b[0;34m.\u001b[0m\u001b[0m_first_chunk\u001b[0m\u001b[0;34m:\u001b[0m\u001b[0;34m\u001b[0m\u001b[0;34m\u001b[0m\u001b[0m\n",
      "\u001b[0;32mpandas/_libs/parsers.pyx\u001b[0m in \u001b[0;36mpandas._libs.parsers.TextReader.read\u001b[0;34m()\u001b[0m\n",
      "\u001b[0;32mpandas/_libs/parsers.pyx\u001b[0m in \u001b[0;36mpandas._libs.parsers.TextReader._read_low_memory\u001b[0;34m()\u001b[0m\n",
      "\u001b[0;32mpandas/_libs/parsers.pyx\u001b[0m in \u001b[0;36mpandas._libs.parsers.TextReader._read_rows\u001b[0;34m()\u001b[0m\n",
      "\u001b[0;32mpandas/_libs/parsers.pyx\u001b[0m in \u001b[0;36mpandas._libs.parsers.TextReader._tokenize_rows\u001b[0;34m()\u001b[0m\n",
      "\u001b[0;32mpandas/_libs/parsers.pyx\u001b[0m in \u001b[0;36mpandas._libs.parsers.raise_parser_error\u001b[0;34m()\u001b[0m\n",
      "\u001b[0;31mParserError\u001b[0m: Error tokenizing data. C error: Expected 8 fields in line 4, saw 14\n"
     ]
    }
   ],
   "source": [
    "data = pd.read_csv('mm.csv')\n",
    "data.shape"
   ]
  },
  {
   "cell_type": "code",
   "execution_count": 72,
   "id": "5b341ea5",
   "metadata": {},
   "outputs": [],
   "source": [
    "class Streamlistener(TwythonStreamer):\n",
    "\t\n",
    "\n",
    "\tdef on_connect(self):\n",
    "\t\tprint(\"You are connected to the Twitter API\")\n",
    "\n",
    "\n",
    "\tdef on_error(self):\n",
    "\t\tif status_code != 200:\n",
    "\t\t\tprint(\"error found\")\n",
    "\t\t\t# returning false disconnects the stream\n",
    "\t\t\treturn False\n",
    "\n",
    "\t\"\"\"\n",
    "\tThis method reads in tweet data as Json\n",
    "\tand extracts the data we want.\n",
    "\t\"\"\"\n",
    "\tdef on_data(self,data):\n",
    "\t\t\n",
    "\t\ttry:\n",
    "\t\t\traw_data = json.loads(data)\n",
    "\n",
    "\t\t\tif 'text' in raw_data:\n",
    "\t\t\t\t \n",
    "\t\t\t\tusername = raw_data['user']['screen_name']\n",
    "\t\t\t\tcreated_at = parser.parse(raw_data['created_at'])\n",
    "\t\t\t\ttweet = raw_data['text']\n",
    "\t\t\t\tretweet_count = raw_data['retweet_count']\n",
    "\n",
    "\t\t\t\tif raw_data['place'] is not None:\n",
    "\t\t\t\t\tplace = raw_data['place']['country']\n",
    "\t\t\t\t\tprint(place)\n",
    "\t\t\t\telse:\n",
    "\t\t\t\t\tplace = None\n",
    "\t\t\t\t\n",
    "\n",
    "\t\t\t\tlocation = raw_data['user']['location']\n",
    "\n",
    "\t\texcept Error as e:\n",
    "\t\t\tprint(e)"
   ]
  },
  {
   "cell_type": "code",
   "execution_count": 74,
   "id": "24d12cfb",
   "metadata": {},
   "outputs": [
    {
     "ename": "KeyboardInterrupt",
     "evalue": "",
     "output_type": "error",
     "traceback": [
      "\u001b[0;31m---------------------------------------------------------------------------\u001b[0m",
      "\u001b[0;31mKeyboardInterrupt\u001b[0m                         Traceback (most recent call last)",
      "\u001b[0;32m<ipython-input-74-334b4de139fe>\u001b[0m in \u001b[0;36m<module>\u001b[0;34m\u001b[0m\n\u001b[1;32m      1\u001b[0m \u001b[0mstream\u001b[0m \u001b[0;34m=\u001b[0m \u001b[0mStreamlistener\u001b[0m\u001b[0;34m(\u001b[0m\u001b[0mAPP_KEY\u001b[0m\u001b[0;34m,\u001b[0m \u001b[0mAPP_SECRET\u001b[0m\u001b[0;34m,\u001b[0m \u001b[0mOAUTH_TOKEN\u001b[0m\u001b[0;34m,\u001b[0m \u001b[0mOAUTH_TOKEN_SECRET\u001b[0m\u001b[0;34m)\u001b[0m\u001b[0;34m\u001b[0m\u001b[0;34m\u001b[0m\u001b[0m\n\u001b[0;32m----> 2\u001b[0;31m \u001b[0mstream\u001b[0m\u001b[0;34m.\u001b[0m\u001b[0mstatuses\u001b[0m\u001b[0;34m.\u001b[0m\u001b[0mfilter\u001b[0m\u001b[0;34m(\u001b[0m\u001b[0mtrack\u001b[0m\u001b[0;34m=\u001b[0m\u001b[0;34m'cryptocurrency'\u001b[0m\u001b[0;34m)\u001b[0m\u001b[0;34m\u001b[0m\u001b[0;34m\u001b[0m\u001b[0m\n\u001b[0m",
      "\u001b[0;32m~/Documents/projectpyspark/pyspark_venv/lib/python3.8/site-packages/twython-3.8.2-py3.8.egg/twython/streaming/types.py\u001b[0m in \u001b[0;36mfilter\u001b[0;34m(self, **params)\u001b[0m\n\u001b[1;32m     45\u001b[0m         \u001b[0murl\u001b[0m \u001b[0;34m=\u001b[0m \u001b[0;34m'https://stream.twitter.com/%s/statuses/filter.json'\u001b[0m\u001b[0;31m \u001b[0m\u001b[0;31m\\\u001b[0m\u001b[0;34m\u001b[0m\u001b[0;34m\u001b[0m\u001b[0m\n\u001b[1;32m     46\u001b[0m               \u001b[0;34m%\u001b[0m \u001b[0mself\u001b[0m\u001b[0;34m.\u001b[0m\u001b[0mstreamer\u001b[0m\u001b[0;34m.\u001b[0m\u001b[0mapi_version\u001b[0m\u001b[0;34m\u001b[0m\u001b[0;34m\u001b[0m\u001b[0m\n\u001b[0;32m---> 47\u001b[0;31m         \u001b[0mself\u001b[0m\u001b[0;34m.\u001b[0m\u001b[0mstreamer\u001b[0m\u001b[0;34m.\u001b[0m\u001b[0m_request\u001b[0m\u001b[0;34m(\u001b[0m\u001b[0murl\u001b[0m\u001b[0;34m,\u001b[0m \u001b[0;34m'POST'\u001b[0m\u001b[0;34m,\u001b[0m \u001b[0mparams\u001b[0m\u001b[0;34m=\u001b[0m\u001b[0mparams\u001b[0m\u001b[0;34m)\u001b[0m\u001b[0;34m\u001b[0m\u001b[0;34m\u001b[0m\u001b[0m\n\u001b[0m\u001b[1;32m     48\u001b[0m \u001b[0;34m\u001b[0m\u001b[0m\n\u001b[1;32m     49\u001b[0m     \u001b[0;32mdef\u001b[0m \u001b[0msample\u001b[0m\u001b[0;34m(\u001b[0m\u001b[0mself\u001b[0m\u001b[0;34m,\u001b[0m \u001b[0;34m**\u001b[0m\u001b[0mparams\u001b[0m\u001b[0;34m)\u001b[0m\u001b[0;34m:\u001b[0m\u001b[0;34m\u001b[0m\u001b[0;34m\u001b[0m\u001b[0m\n",
      "\u001b[0;32m~/Documents/projectpyspark/pyspark_venv/lib/python3.8/site-packages/twython-3.8.2-py3.8.egg/twython/streaming/api.py\u001b[0m in \u001b[0;36m_request\u001b[0;34m(self, url, method, params)\u001b[0m\n\u001b[1;32m    137\u001b[0m             \u001b[0mresponse\u001b[0m \u001b[0;34m=\u001b[0m \u001b[0m_send\u001b[0m\u001b[0;34m(\u001b[0m\u001b[0mretry_counter\u001b[0m\u001b[0;34m)\u001b[0m\u001b[0;34m\u001b[0m\u001b[0;34m\u001b[0m\u001b[0m\n\u001b[1;32m    138\u001b[0m \u001b[0;34m\u001b[0m\u001b[0m\n\u001b[0;32m--> 139\u001b[0;31m             \u001b[0;32mfor\u001b[0m \u001b[0mline\u001b[0m \u001b[0;32min\u001b[0m \u001b[0mresponse\u001b[0m\u001b[0;34m.\u001b[0m\u001b[0miter_lines\u001b[0m\u001b[0;34m(\u001b[0m\u001b[0mself\u001b[0m\u001b[0;34m.\u001b[0m\u001b[0mchunk_size\u001b[0m\u001b[0;34m)\u001b[0m\u001b[0;34m:\u001b[0m\u001b[0;34m\u001b[0m\u001b[0;34m\u001b[0m\u001b[0m\n\u001b[0m\u001b[1;32m    140\u001b[0m                 \u001b[0;32mif\u001b[0m \u001b[0;32mnot\u001b[0m \u001b[0mself\u001b[0m\u001b[0;34m.\u001b[0m\u001b[0mconnected\u001b[0m\u001b[0;34m:\u001b[0m\u001b[0;34m\u001b[0m\u001b[0;34m\u001b[0m\u001b[0m\n\u001b[1;32m    141\u001b[0m                     \u001b[0;32mbreak\u001b[0m\u001b[0;34m\u001b[0m\u001b[0;34m\u001b[0m\u001b[0m\n",
      "\u001b[0;32m~/Documents/projectpyspark/pyspark_venv/lib/python3.8/site-packages/requests/models.py\u001b[0m in \u001b[0;36miter_lines\u001b[0;34m(self, chunk_size, decode_unicode, delimiter)\u001b[0m\n\u001b[1;32m    795\u001b[0m         \u001b[0mpending\u001b[0m \u001b[0;34m=\u001b[0m \u001b[0;32mNone\u001b[0m\u001b[0;34m\u001b[0m\u001b[0;34m\u001b[0m\u001b[0m\n\u001b[1;32m    796\u001b[0m \u001b[0;34m\u001b[0m\u001b[0m\n\u001b[0;32m--> 797\u001b[0;31m         \u001b[0;32mfor\u001b[0m \u001b[0mchunk\u001b[0m \u001b[0;32min\u001b[0m \u001b[0mself\u001b[0m\u001b[0;34m.\u001b[0m\u001b[0miter_content\u001b[0m\u001b[0;34m(\u001b[0m\u001b[0mchunk_size\u001b[0m\u001b[0;34m=\u001b[0m\u001b[0mchunk_size\u001b[0m\u001b[0;34m,\u001b[0m \u001b[0mdecode_unicode\u001b[0m\u001b[0;34m=\u001b[0m\u001b[0mdecode_unicode\u001b[0m\u001b[0;34m)\u001b[0m\u001b[0;34m:\u001b[0m\u001b[0;34m\u001b[0m\u001b[0;34m\u001b[0m\u001b[0m\n\u001b[0m\u001b[1;32m    798\u001b[0m \u001b[0;34m\u001b[0m\u001b[0m\n\u001b[1;32m    799\u001b[0m             \u001b[0;32mif\u001b[0m \u001b[0mpending\u001b[0m \u001b[0;32mis\u001b[0m \u001b[0;32mnot\u001b[0m \u001b[0;32mNone\u001b[0m\u001b[0;34m:\u001b[0m\u001b[0;34m\u001b[0m\u001b[0;34m\u001b[0m\u001b[0m\n",
      "\u001b[0;32m~/Documents/projectpyspark/pyspark_venv/lib/python3.8/site-packages/requests/models.py\u001b[0m in \u001b[0;36mgenerate\u001b[0;34m()\u001b[0m\n\u001b[1;32m    751\u001b[0m             \u001b[0;32mif\u001b[0m \u001b[0mhasattr\u001b[0m\u001b[0;34m(\u001b[0m\u001b[0mself\u001b[0m\u001b[0;34m.\u001b[0m\u001b[0mraw\u001b[0m\u001b[0;34m,\u001b[0m \u001b[0;34m'stream'\u001b[0m\u001b[0;34m)\u001b[0m\u001b[0;34m:\u001b[0m\u001b[0;34m\u001b[0m\u001b[0;34m\u001b[0m\u001b[0m\n\u001b[1;32m    752\u001b[0m                 \u001b[0;32mtry\u001b[0m\u001b[0;34m:\u001b[0m\u001b[0;34m\u001b[0m\u001b[0;34m\u001b[0m\u001b[0m\n\u001b[0;32m--> 753\u001b[0;31m                     \u001b[0;32mfor\u001b[0m \u001b[0mchunk\u001b[0m \u001b[0;32min\u001b[0m \u001b[0mself\u001b[0m\u001b[0;34m.\u001b[0m\u001b[0mraw\u001b[0m\u001b[0;34m.\u001b[0m\u001b[0mstream\u001b[0m\u001b[0;34m(\u001b[0m\u001b[0mchunk_size\u001b[0m\u001b[0;34m,\u001b[0m \u001b[0mdecode_content\u001b[0m\u001b[0;34m=\u001b[0m\u001b[0;32mTrue\u001b[0m\u001b[0;34m)\u001b[0m\u001b[0;34m:\u001b[0m\u001b[0;34m\u001b[0m\u001b[0;34m\u001b[0m\u001b[0m\n\u001b[0m\u001b[1;32m    754\u001b[0m                         \u001b[0;32myield\u001b[0m \u001b[0mchunk\u001b[0m\u001b[0;34m\u001b[0m\u001b[0;34m\u001b[0m\u001b[0m\n\u001b[1;32m    755\u001b[0m                 \u001b[0;32mexcept\u001b[0m \u001b[0mProtocolError\u001b[0m \u001b[0;32mas\u001b[0m \u001b[0me\u001b[0m\u001b[0;34m:\u001b[0m\u001b[0;34m\u001b[0m\u001b[0;34m\u001b[0m\u001b[0m\n",
      "\u001b[0;32m~/Documents/projectpyspark/pyspark_venv/lib/python3.8/site-packages/urllib3/response.py\u001b[0m in \u001b[0;36mstream\u001b[0;34m(self, amt, decode_content)\u001b[0m\n\u001b[1;32m    570\u001b[0m         \"\"\"\n\u001b[1;32m    571\u001b[0m         \u001b[0;32mif\u001b[0m \u001b[0mself\u001b[0m\u001b[0;34m.\u001b[0m\u001b[0mchunked\u001b[0m \u001b[0;32mand\u001b[0m \u001b[0mself\u001b[0m\u001b[0;34m.\u001b[0m\u001b[0msupports_chunked_reads\u001b[0m\u001b[0;34m(\u001b[0m\u001b[0;34m)\u001b[0m\u001b[0;34m:\u001b[0m\u001b[0;34m\u001b[0m\u001b[0;34m\u001b[0m\u001b[0m\n\u001b[0;32m--> 572\u001b[0;31m             \u001b[0;32mfor\u001b[0m \u001b[0mline\u001b[0m \u001b[0;32min\u001b[0m \u001b[0mself\u001b[0m\u001b[0;34m.\u001b[0m\u001b[0mread_chunked\u001b[0m\u001b[0;34m(\u001b[0m\u001b[0mamt\u001b[0m\u001b[0;34m,\u001b[0m \u001b[0mdecode_content\u001b[0m\u001b[0;34m=\u001b[0m\u001b[0mdecode_content\u001b[0m\u001b[0;34m)\u001b[0m\u001b[0;34m:\u001b[0m\u001b[0;34m\u001b[0m\u001b[0;34m\u001b[0m\u001b[0m\n\u001b[0m\u001b[1;32m    573\u001b[0m                 \u001b[0;32myield\u001b[0m \u001b[0mline\u001b[0m\u001b[0;34m\u001b[0m\u001b[0;34m\u001b[0m\u001b[0m\n\u001b[1;32m    574\u001b[0m         \u001b[0;32melse\u001b[0m\u001b[0;34m:\u001b[0m\u001b[0;34m\u001b[0m\u001b[0;34m\u001b[0m\u001b[0m\n",
      "\u001b[0;32m~/Documents/projectpyspark/pyspark_venv/lib/python3.8/site-packages/urllib3/response.py\u001b[0m in \u001b[0;36mread_chunked\u001b[0;34m(self, amt, decode_content)\u001b[0m\n\u001b[1;32m    762\u001b[0m \u001b[0;34m\u001b[0m\u001b[0m\n\u001b[1;32m    763\u001b[0m             \u001b[0;32mwhile\u001b[0m \u001b[0;32mTrue\u001b[0m\u001b[0;34m:\u001b[0m\u001b[0;34m\u001b[0m\u001b[0;34m\u001b[0m\u001b[0m\n\u001b[0;32m--> 764\u001b[0;31m                 \u001b[0mself\u001b[0m\u001b[0;34m.\u001b[0m\u001b[0m_update_chunk_length\u001b[0m\u001b[0;34m(\u001b[0m\u001b[0;34m)\u001b[0m\u001b[0;34m\u001b[0m\u001b[0;34m\u001b[0m\u001b[0m\n\u001b[0m\u001b[1;32m    765\u001b[0m                 \u001b[0;32mif\u001b[0m \u001b[0mself\u001b[0m\u001b[0;34m.\u001b[0m\u001b[0mchunk_left\u001b[0m \u001b[0;34m==\u001b[0m \u001b[0;36m0\u001b[0m\u001b[0;34m:\u001b[0m\u001b[0;34m\u001b[0m\u001b[0;34m\u001b[0m\u001b[0m\n\u001b[1;32m    766\u001b[0m                     \u001b[0;32mbreak\u001b[0m\u001b[0;34m\u001b[0m\u001b[0;34m\u001b[0m\u001b[0m\n",
      "\u001b[0;32m~/Documents/projectpyspark/pyspark_venv/lib/python3.8/site-packages/urllib3/response.py\u001b[0m in \u001b[0;36m_update_chunk_length\u001b[0;34m(self)\u001b[0m\n\u001b[1;32m    692\u001b[0m         \u001b[0;32mif\u001b[0m \u001b[0mself\u001b[0m\u001b[0;34m.\u001b[0m\u001b[0mchunk_left\u001b[0m \u001b[0;32mis\u001b[0m \u001b[0;32mnot\u001b[0m \u001b[0;32mNone\u001b[0m\u001b[0;34m:\u001b[0m\u001b[0;34m\u001b[0m\u001b[0;34m\u001b[0m\u001b[0m\n\u001b[1;32m    693\u001b[0m             \u001b[0;32mreturn\u001b[0m\u001b[0;34m\u001b[0m\u001b[0;34m\u001b[0m\u001b[0m\n\u001b[0;32m--> 694\u001b[0;31m         \u001b[0mline\u001b[0m \u001b[0;34m=\u001b[0m \u001b[0mself\u001b[0m\u001b[0;34m.\u001b[0m\u001b[0m_fp\u001b[0m\u001b[0;34m.\u001b[0m\u001b[0mfp\u001b[0m\u001b[0;34m.\u001b[0m\u001b[0mreadline\u001b[0m\u001b[0;34m(\u001b[0m\u001b[0;34m)\u001b[0m\u001b[0;34m\u001b[0m\u001b[0;34m\u001b[0m\u001b[0m\n\u001b[0m\u001b[1;32m    695\u001b[0m         \u001b[0mline\u001b[0m \u001b[0;34m=\u001b[0m \u001b[0mline\u001b[0m\u001b[0;34m.\u001b[0m\u001b[0msplit\u001b[0m\u001b[0;34m(\u001b[0m\u001b[0;34mb\";\"\u001b[0m\u001b[0;34m,\u001b[0m \u001b[0;36m1\u001b[0m\u001b[0;34m)\u001b[0m\u001b[0;34m[\u001b[0m\u001b[0;36m0\u001b[0m\u001b[0;34m]\u001b[0m\u001b[0;34m\u001b[0m\u001b[0;34m\u001b[0m\u001b[0m\n\u001b[1;32m    696\u001b[0m         \u001b[0;32mtry\u001b[0m\u001b[0;34m:\u001b[0m\u001b[0;34m\u001b[0m\u001b[0;34m\u001b[0m\u001b[0m\n",
      "\u001b[0;32m/usr/lib/python3.8/socket.py\u001b[0m in \u001b[0;36mreadinto\u001b[0;34m(self, b)\u001b[0m\n\u001b[1;32m    667\u001b[0m         \u001b[0;32mwhile\u001b[0m \u001b[0;32mTrue\u001b[0m\u001b[0;34m:\u001b[0m\u001b[0;34m\u001b[0m\u001b[0;34m\u001b[0m\u001b[0m\n\u001b[1;32m    668\u001b[0m             \u001b[0;32mtry\u001b[0m\u001b[0;34m:\u001b[0m\u001b[0;34m\u001b[0m\u001b[0;34m\u001b[0m\u001b[0m\n\u001b[0;32m--> 669\u001b[0;31m                 \u001b[0;32mreturn\u001b[0m \u001b[0mself\u001b[0m\u001b[0;34m.\u001b[0m\u001b[0m_sock\u001b[0m\u001b[0;34m.\u001b[0m\u001b[0mrecv_into\u001b[0m\u001b[0;34m(\u001b[0m\u001b[0mb\u001b[0m\u001b[0;34m)\u001b[0m\u001b[0;34m\u001b[0m\u001b[0;34m\u001b[0m\u001b[0m\n\u001b[0m\u001b[1;32m    670\u001b[0m             \u001b[0;32mexcept\u001b[0m \u001b[0mtimeout\u001b[0m\u001b[0;34m:\u001b[0m\u001b[0;34m\u001b[0m\u001b[0;34m\u001b[0m\u001b[0m\n\u001b[1;32m    671\u001b[0m                 \u001b[0mself\u001b[0m\u001b[0;34m.\u001b[0m\u001b[0m_timeout_occurred\u001b[0m \u001b[0;34m=\u001b[0m \u001b[0;32mTrue\u001b[0m\u001b[0;34m\u001b[0m\u001b[0;34m\u001b[0m\u001b[0m\n",
      "\u001b[0;32m/usr/lib/python3.8/ssl.py\u001b[0m in \u001b[0;36mrecv_into\u001b[0;34m(self, buffer, nbytes, flags)\u001b[0m\n\u001b[1;32m   1239\u001b[0m                   \u001b[0;34m\"non-zero flags not allowed in calls to recv_into() on %s\"\u001b[0m \u001b[0;34m%\u001b[0m\u001b[0;34m\u001b[0m\u001b[0;34m\u001b[0m\u001b[0m\n\u001b[1;32m   1240\u001b[0m                   self.__class__)\n\u001b[0;32m-> 1241\u001b[0;31m             \u001b[0;32mreturn\u001b[0m \u001b[0mself\u001b[0m\u001b[0;34m.\u001b[0m\u001b[0mread\u001b[0m\u001b[0;34m(\u001b[0m\u001b[0mnbytes\u001b[0m\u001b[0;34m,\u001b[0m \u001b[0mbuffer\u001b[0m\u001b[0;34m)\u001b[0m\u001b[0;34m\u001b[0m\u001b[0;34m\u001b[0m\u001b[0m\n\u001b[0m\u001b[1;32m   1242\u001b[0m         \u001b[0;32melse\u001b[0m\u001b[0;34m:\u001b[0m\u001b[0;34m\u001b[0m\u001b[0;34m\u001b[0m\u001b[0m\n\u001b[1;32m   1243\u001b[0m             \u001b[0;32mreturn\u001b[0m \u001b[0msuper\u001b[0m\u001b[0;34m(\u001b[0m\u001b[0;34m)\u001b[0m\u001b[0;34m.\u001b[0m\u001b[0mrecv_into\u001b[0m\u001b[0;34m(\u001b[0m\u001b[0mbuffer\u001b[0m\u001b[0;34m,\u001b[0m \u001b[0mnbytes\u001b[0m\u001b[0;34m,\u001b[0m \u001b[0mflags\u001b[0m\u001b[0;34m)\u001b[0m\u001b[0;34m\u001b[0m\u001b[0;34m\u001b[0m\u001b[0m\n",
      "\u001b[0;32m/usr/lib/python3.8/ssl.py\u001b[0m in \u001b[0;36mread\u001b[0;34m(self, len, buffer)\u001b[0m\n\u001b[1;32m   1097\u001b[0m         \u001b[0;32mtry\u001b[0m\u001b[0;34m:\u001b[0m\u001b[0;34m\u001b[0m\u001b[0;34m\u001b[0m\u001b[0m\n\u001b[1;32m   1098\u001b[0m             \u001b[0;32mif\u001b[0m \u001b[0mbuffer\u001b[0m \u001b[0;32mis\u001b[0m \u001b[0;32mnot\u001b[0m \u001b[0;32mNone\u001b[0m\u001b[0;34m:\u001b[0m\u001b[0;34m\u001b[0m\u001b[0;34m\u001b[0m\u001b[0m\n\u001b[0;32m-> 1099\u001b[0;31m                 \u001b[0;32mreturn\u001b[0m \u001b[0mself\u001b[0m\u001b[0;34m.\u001b[0m\u001b[0m_sslobj\u001b[0m\u001b[0;34m.\u001b[0m\u001b[0mread\u001b[0m\u001b[0;34m(\u001b[0m\u001b[0mlen\u001b[0m\u001b[0;34m,\u001b[0m \u001b[0mbuffer\u001b[0m\u001b[0;34m)\u001b[0m\u001b[0;34m\u001b[0m\u001b[0;34m\u001b[0m\u001b[0m\n\u001b[0m\u001b[1;32m   1100\u001b[0m             \u001b[0;32melse\u001b[0m\u001b[0;34m:\u001b[0m\u001b[0;34m\u001b[0m\u001b[0;34m\u001b[0m\u001b[0m\n\u001b[1;32m   1101\u001b[0m                 \u001b[0;32mreturn\u001b[0m \u001b[0mself\u001b[0m\u001b[0;34m.\u001b[0m\u001b[0m_sslobj\u001b[0m\u001b[0;34m.\u001b[0m\u001b[0mread\u001b[0m\u001b[0;34m(\u001b[0m\u001b[0mlen\u001b[0m\u001b[0;34m)\u001b[0m\u001b[0;34m\u001b[0m\u001b[0;34m\u001b[0m\u001b[0m\n",
      "\u001b[0;31mKeyboardInterrupt\u001b[0m: "
     ]
    }
   ],
   "source": [
    "stream = Streamlistener(APP_KEY, APP_SECRET, OAUTH_TOKEN, OAUTH_TOKEN_SECRET)\n",
    "stream.statuses.filter(track='cryptocurrency')"
   ]
  },
  {
   "cell_type": "code",
   "execution_count": null,
   "id": "75d148cd",
   "metadata": {},
   "outputs": [],
   "source": []
  }
 ],
 "metadata": {
  "kernelspec": {
   "display_name": "Python 3",
   "language": "python",
   "name": "python3"
  },
  "language_info": {
   "codemirror_mode": {
    "name": "ipython",
    "version": 3
   },
   "file_extension": ".py",
   "mimetype": "text/x-python",
   "name": "python",
   "nbconvert_exporter": "python",
   "pygments_lexer": "ipython3",
   "version": "3.8.5"
  }
 },
 "nbformat": 4,
 "nbformat_minor": 5
}
