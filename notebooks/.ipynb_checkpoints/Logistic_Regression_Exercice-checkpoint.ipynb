{
 "cells": [
  {
   "cell_type": "markdown",
   "metadata": {
    "slideshow": {
     "slide_type": "slide"
    }
   },
   "source": [
    "# Logistic Regression Consulting Project"
   ]
  },
  {
   "cell_type": "markdown",
   "metadata": {
    "slideshow": {
     "slide_type": "slide"
    }
   },
   "source": [
    "## Binary Customer Churn\n",
    "\n",
    "A marketing agency has many customers that use their service to produce ads for the client/customer websites. They've noticed that they have quite a bit of churn in clients. They basically randomly assign account managers right now, but want you to create a machine learning model that will help predict which customers will churn (stop buying their service) so that they can correctly assign the customers most at risk to churn an account manager. Luckily they have some historical data, can you help them out? Create a classification algorithm that will help classify whether or not a customer churned. Then the company can test this against incoming data for future customers to predict which customers will churn and assign them an account manager.\n",
    "\n",
    "The data is saved as customer_churn.csv. Here are the fields and their definitions:\n",
    "\n",
    "    Name : Name of the latest contact at Company\n",
    "    Age: Customer Age\n",
    "    Total_Purchase: Total Ads Purchased\n",
    "    Account_Manager: Binary 0=No manager, 1= Account manager assigned\n",
    "    Years: Totaly Years as a customer\n",
    "    Num_sites: Number of websites that use the service.\n",
    "    Onboard_date: Date that the name of the latest contact was onboarded\n",
    "    Location: Client HQ Address\n",
    "    Company: Name of Client Company\n",
    "    \n",
    "Once you've created the model and evaluated it, test out the model on some new data (you can think of this almost like a hold-out set) that your client has provided, saved under new_customers.csv. The client wants to know which customers are most likely to churn given this data (they don't have the label yet)."
   ]
  },
  {
   "cell_type": "code",
   "execution_count": 1,
   "metadata": {},
   "outputs": [],
   "source": [
    "from pyspark import SparkContext"
   ]
  },
  {
   "cell_type": "code",
   "execution_count": 2,
   "metadata": {},
   "outputs": [],
   "source": [
    "sc = SparkContext(master= \"local[4]\")"
   ]
  },
  {
   "cell_type": "code",
   "execution_count": 3,
   "metadata": {},
   "outputs": [
    {
     "data": {
      "text/html": [
       "\n",
       "        <div>\n",
       "            <p><b>SparkContext</b></p>\n",
       "\n",
       "            <p><a href=\"http://ad4e387b58f6:4040\">Spark UI</a></p>\n",
       "\n",
       "            <dl>\n",
       "              <dt>Version</dt>\n",
       "                <dd><code>v3.1.1</code></dd>\n",
       "              <dt>Master</dt>\n",
       "                <dd><code>local[4]</code></dd>\n",
       "              <dt>AppName</dt>\n",
       "                <dd><code>pyspark-shell</code></dd>\n",
       "            </dl>\n",
       "        </div>\n",
       "        "
      ],
      "text/plain": [
       "<SparkContext master=local[4] appName=pyspark-shell>"
      ]
     },
     "execution_count": 3,
     "metadata": {},
     "output_type": "execute_result"
    }
   ],
   "source": [
    "sc"
   ]
  },
  {
   "cell_type": "code",
   "execution_count": 4,
   "metadata": {},
   "outputs": [],
   "source": [
    "import pyspark\n",
    "from pyspark.sql import SparkSession"
   ]
  },
  {
   "cell_type": "code",
   "execution_count": 5,
   "metadata": {},
   "outputs": [],
   "source": [
    "# May take awhile locally\n",
    "spark = SparkSession.builder.appName(\"LogitReg\").getOrCreate()"
   ]
  },
  {
   "cell_type": "code",
   "execution_count": 6,
   "metadata": {},
   "outputs": [],
   "source": [
    "# Let Spark know about the header and infer the Schema types!\n",
    "df = spark.read.csv('customer_churn.csv',inferSchema=True,header=True)"
   ]
  },
  {
   "cell_type": "code",
   "execution_count": 7,
   "metadata": {},
   "outputs": [
    {
     "name": "stdout",
     "output_type": "stream",
     "text": [
      "+-------------------+----+--------------+---------------+-----+---------+-------------------+--------------------+--------------------+-----+\n",
      "|              Names| Age|Total_Purchase|Account_Manager|Years|Num_Sites|       Onboard_date|            Location|             Company|Churn|\n",
      "+-------------------+----+--------------+---------------+-----+---------+-------------------+--------------------+--------------------+-----+\n",
      "|   Cameron Williams|42.0|       11066.8|              0| 7.22|      8.0|2013-08-30 07:00:40|10265 Elizabeth M...|          Harvey LLC|    1|\n",
      "|      Kevin Mueller|41.0|      11916.22|              0|  6.5|     11.0|2013-08-13 00:38:46|6157 Frank Garden...|          Wilson PLC|    1|\n",
      "|        Eric Lozano|38.0|      12884.75|              0| 6.67|     12.0|2016-06-29 06:20:07|1331 Keith Court ...|Miller, Johnson a...|    1|\n",
      "|      Phillip White|42.0|       8010.76|              0| 6.71|     10.0|2014-04-22 12:43:12|13120 Daniel Moun...|           Smith Inc|    1|\n",
      "|     Cynthia Norton|37.0|       9191.58|              0| 5.56|      9.0|2016-01-19 15:31:15|765 Tricia Row Ka...|          Love-Jones|    1|\n",
      "|   Jessica Williams|48.0|      10356.02|              0| 5.12|      8.0|2009-03-03 23:13:37|6187 Olson Mounta...|        Kelly-Warren|    1|\n",
      "|        Eric Butler|44.0|      11331.58|              1| 5.23|     11.0|2016-12-05 03:35:43|4846 Savannah Roa...|   Reynolds-Sheppard|    1|\n",
      "|      Zachary Walsh|32.0|       9885.12|              1| 6.92|      9.0|2006-03-09 14:50:20|25271 Roy Express...|          Singh-Cole|    1|\n",
      "|        Ashlee Carr|43.0|       14062.6|              1| 5.46|     11.0|2011-09-29 05:47:23|3725 Caroline Str...|           Lopez PLC|    1|\n",
      "|     Jennifer Lynch|40.0|       8066.94|              1| 7.11|     11.0|2006-03-28 15:42:45|363 Sandra Lodge ...|       Reed-Martinez|    1|\n",
      "|       Paula Harris|30.0|      11575.37|              1| 5.22|      8.0|2016-11-13 13:13:01|Unit 8120 Box 916...|Briggs, Lamb and ...|    1|\n",
      "|     Bruce Phillips|45.0|       8771.02|              1| 6.64|     11.0|2015-05-28 12:14:03|Unit 1895 Box 094...|    Figueroa-Maynard|    1|\n",
      "|       Craig Garner|45.0|       8988.67|              1| 4.84|     11.0|2011-02-16 08:10:47|897 Kelley Overpa...|     Abbott-Thompson|    1|\n",
      "|       Nicole Olson|40.0|       8283.32|              1|  5.1|     13.0|2012-11-22 05:35:03|11488 Weaver Cape...|Smith, Kim and Ma...|    1|\n",
      "|     Harold Griffin|41.0|       6569.87|              1|  4.3|     11.0|2015-03-28 02:13:44|1774 Peter Row Ap...|Snyder, Lee and M...|    1|\n",
      "|       James Wright|38.0|      10494.82|              1| 6.81|     12.0|2015-07-22 08:38:40|45408 David Path ...|      Sanders-Pierce|    1|\n",
      "|      Doris Wilkins|45.0|       8213.41|              1| 7.35|     11.0|2006-09-03 06:13:55|28216 Wright Moun...|Andrews, Adams an...|    1|\n",
      "|Katherine Carpenter|43.0|      11226.88|              0| 8.08|     12.0|2006-10-22 04:42:38|Unit 4948 Box 481...|Morgan, Phillips ...|    1|\n",
      "|     Lindsay Martin|53.0|       5515.09|              0| 6.85|      8.0|2015-10-07 00:27:10|69203 Crosby Divi...|      Villanueva LLC|    1|\n",
      "|        Kathy Curry|46.0|        8046.4|              1| 5.69|      8.0|2014-11-06 23:47:14|9569 Caldwell Cre...|Berry, Orr and Ca...|    1|\n",
      "+-------------------+----+--------------+---------------+-----+---------+-------------------+--------------------+--------------------+-----+\n",
      "only showing top 20 rows\n",
      "\n"
     ]
    }
   ],
   "source": [
    "df.show()"
   ]
  },
  {
   "cell_type": "code",
   "execution_count": 8,
   "metadata": {},
   "outputs": [
    {
     "data": {
      "text/plain": [
       "['Names',\n",
       " 'Age',\n",
       " 'Total_Purchase',\n",
       " 'Account_Manager',\n",
       " 'Years',\n",
       " 'Num_Sites',\n",
       " 'Onboard_date',\n",
       " 'Location',\n",
       " 'Company',\n",
       " 'Churn']"
      ]
     },
     "execution_count": 8,
     "metadata": {},
     "output_type": "execute_result"
    }
   ],
   "source": [
    "df.columns"
   ]
  },
  {
   "cell_type": "code",
   "execution_count": 9,
   "metadata": {},
   "outputs": [
    {
     "name": "stdout",
     "output_type": "stream",
     "text": [
      "shape of df- 900 10\n"
     ]
    }
   ],
   "source": [
    "#rows\n",
    "df.count()\n",
    "#cols\n",
    "len(df.columns)\n",
    "\n",
    "print(\"shape of df-\", df.count(), len(df.columns))"
   ]
  },
  {
   "cell_type": "code",
   "execution_count": 10,
   "metadata": {},
   "outputs": [],
   "source": [
    "df1 = df.select([\n",
    " 'Age',\n",
    " 'Total_Purchase',\n",
    " 'Account_Manager',\n",
    " 'Years',\n",
    " 'Num_Sites',\n",
    " 'Company'])"
   ]
  },
  {
   "cell_type": "code",
   "execution_count": 11,
   "metadata": {},
   "outputs": [
    {
     "name": "stdout",
     "output_type": "stream",
     "text": [
      "+----+--------------+---------------+-----+---------+--------------------+\n",
      "| Age|Total_Purchase|Account_Manager|Years|Num_Sites|             Company|\n",
      "+----+--------------+---------------+-----+---------+--------------------+\n",
      "|42.0|       11066.8|              0| 7.22|      8.0|          Harvey LLC|\n",
      "|41.0|      11916.22|              0|  6.5|     11.0|          Wilson PLC|\n",
      "|38.0|      12884.75|              0| 6.67|     12.0|Miller, Johnson a...|\n",
      "|42.0|       8010.76|              0| 6.71|     10.0|           Smith Inc|\n",
      "|37.0|       9191.58|              0| 5.56|      9.0|          Love-Jones|\n",
      "|48.0|      10356.02|              0| 5.12|      8.0|        Kelly-Warren|\n",
      "|44.0|      11331.58|              1| 5.23|     11.0|   Reynolds-Sheppard|\n",
      "|32.0|       9885.12|              1| 6.92|      9.0|          Singh-Cole|\n",
      "|43.0|       14062.6|              1| 5.46|     11.0|           Lopez PLC|\n",
      "|40.0|       8066.94|              1| 7.11|     11.0|       Reed-Martinez|\n",
      "+----+--------------+---------------+-----+---------+--------------------+\n",
      "only showing top 10 rows\n",
      "\n"
     ]
    }
   ],
   "source": [
    "df1.show(10)"
   ]
  },
  {
   "cell_type": "code",
   "execution_count": 12,
   "metadata": {},
   "outputs": [
    {
     "name": "stdout",
     "output_type": "stream",
     "text": [
      "+-------+------------------+\n",
      "|summary|   Account_Manager|\n",
      "+-------+------------------+\n",
      "|  count|               900|\n",
      "|   mean|0.4811111111111111|\n",
      "| stddev|0.4999208935073339|\n",
      "|    min|                 0|\n",
      "|    max|                 1|\n",
      "+-------+------------------+\n",
      "\n"
     ]
    }
   ],
   "source": [
    "df1.describe('Account_Manager').show()"
   ]
  },
  {
   "cell_type": "code",
   "execution_count": 13,
   "metadata": {},
   "outputs": [
    {
     "name": "stdout",
     "output_type": "stream",
     "text": [
      "+----+--------------+---------------+-----+---------+--------------------+\n",
      "| Age|Total_Purchase|Account_Manager|Years|Num_Sites|             Company|\n",
      "+----+--------------+---------------+-----+---------+--------------------+\n",
      "|42.0|       11066.8|              0| 7.22|      8.0|          Harvey LLC|\n",
      "|41.0|      11916.22|              0|  6.5|     11.0|          Wilson PLC|\n",
      "|38.0|      12884.75|              0| 6.67|     12.0|Miller, Johnson a...|\n",
      "|42.0|       8010.76|              0| 6.71|     10.0|           Smith Inc|\n",
      "|37.0|       9191.58|              0| 5.56|      9.0|          Love-Jones|\n",
      "|48.0|      10356.02|              0| 5.12|      8.0|        Kelly-Warren|\n",
      "|43.0|      11226.88|              0| 8.08|     12.0|Morgan, Phillips ...|\n",
      "|53.0|       5515.09|              0| 6.85|      8.0|      Villanueva LLC|\n",
      "|41.0|       9771.22|              0| 5.81|     11.0|       Parks-Bradley|\n",
      "|41.0|      10474.94|              0|  6.4|     12.0|          Dalton LLC|\n",
      "|54.0|        8207.1|              0| 4.26|     11.0|Yates, Martinez a...|\n",
      "|35.0|      12403.81|              0| 4.42|     11.0|       Reeves-Curtis|\n",
      "|40.0|      10041.13|              0| 7.61|     11.0|           Gates Ltd|\n",
      "|44.0|      12721.55|              0| 5.18|     11.0|     Dunlap and Sons|\n",
      "|37.0|      14383.36|              0| 7.84|     10.0|Juarez, Pugh and ...|\n",
      "|38.0|      11887.39|              0| 5.83|     12.0|     Mckinney-Rogers|\n",
      "|41.0|       7777.37|              0| 4.81|     12.0|Evans, Logan and ...|\n",
      "|41.0|      11699.26|              0| 6.99|     12.0|        Clark-Kramer|\n",
      "|43.0|       8601.01|              0| 5.65|     12.0|           Evans LLC|\n",
      "|40.0|      11185.62|              0| 6.26|     12.0|            Reed Ltd|\n",
      "+----+--------------+---------------+-----+---------+--------------------+\n",
      "only showing top 20 rows\n",
      "\n"
     ]
    }
   ],
   "source": [
    "df1.filter(\"Account_Manager == 0\").show()"
   ]
  },
  {
   "cell_type": "code",
   "execution_count": 14,
   "metadata": {},
   "outputs": [
    {
     "name": "stdout",
     "output_type": "stream",
     "text": [
      "+---------------+-----+\n",
      "|Account_Manager|count|\n",
      "+---------------+-----+\n",
      "|              1|  433|\n",
      "|              0|  467|\n",
      "+---------------+-----+\n",
      "\n"
     ]
    }
   ],
   "source": [
    "df1.groupBy('Account_Manager').count().show()"
   ]
  },
  {
   "cell_type": "code",
   "execution_count": 15,
   "metadata": {},
   "outputs": [
    {
     "name": "stdout",
     "output_type": "stream",
     "text": [
      "+--------------------+-----+\n",
      "|             Company|count|\n",
      "+--------------------+-----+\n",
      "|Miller, Johnson a...|    1|\n",
      "|Hunter, Reyes and...|    1|\n",
      "|          Obrien PLC|    1|\n",
      "|            Soto PLC|    2|\n",
      "|            Todd LLC|    1|\n",
      "|Smith, Marshall a...|    1|\n",
      "|           Smith PLC|    1|\n",
      "|          Hall Group|    1|\n",
      "|Freeman, Lam and ...|    1|\n",
      "|       Smith-Carroll|    1|\n",
      "|Hall, Hernandez a...|    1|\n",
      "|          Cannon Inc|    1|\n",
      "|        White-Dennis|    1|\n",
      "|Wilson, Collins a...|    1|\n",
      "|Jennings, Gates a...|    1|\n",
      "|     Campbell-Willis|    1|\n",
      "|    Martinez-Roberts|    1|\n",
      "|        Robinson PLC|    1|\n",
      "|          Barton Inc|    1|\n",
      "|Hernandez, Middle...|    1|\n",
      "+--------------------+-----+\n",
      "only showing top 20 rows\n",
      "\n"
     ]
    }
   ],
   "source": [
    "df1.groupBy('Company').count().show()"
   ]
  },
  {
   "cell_type": "code",
   "execution_count": 16,
   "metadata": {},
   "outputs": [
    {
     "data": {
      "text/plain": [
       "873"
      ]
     },
     "execution_count": 16,
     "metadata": {},
     "output_type": "execute_result"
    }
   ],
   "source": [
    "df1.select('Company').distinct().count()"
   ]
  },
  {
   "cell_type": "code",
   "execution_count": 17,
   "metadata": {},
   "outputs": [
    {
     "data": {
      "text/plain": [
       "array([[<AxesSubplot:title={'center':'Age'}>,\n",
       "        <AxesSubplot:title={'center':'Total_Purchase'}>],\n",
       "       [<AxesSubplot:title={'center':'Account_Manager'}>,\n",
       "        <AxesSubplot:title={'center':'Years'}>],\n",
       "       [<AxesSubplot:title={'center':'Num_Sites'}>, <AxesSubplot:>]],\n",
       "      dtype=object)"
      ]
     },
     "execution_count": 17,
     "metadata": {},
     "output_type": "execute_result"
    },
    {
     "data": {
      "image/png": "[encoded data removed]",
      "text/plain": [
       "<Figure size 864x576 with 6 Axes>"
      ]
     },
     "metadata": {
      "needs_background": "light"
     },
     "output_type": "display_data"
    }
   ],
   "source": [
    "df1.sample(False, 0.1).toPandas().hist(figsize=(12,8))"
   ]
  },
  {
   "cell_type": "code",
   "execution_count": 18,
   "metadata": {},
   "outputs": [
    {
     "name": "stdout",
     "output_type": "stream",
     "text": [
      "root\n",
      " |-- Age: double (nullable = true)\n",
      " |-- Total_Purchase: double (nullable = true)\n",
      " |-- Account_Manager: integer (nullable = true)\n",
      " |-- Years: double (nullable = true)\n",
      " |-- Num_Sites: double (nullable = true)\n",
      " |-- Company: string (nullable = true)\n",
      "\n"
     ]
    }
   ],
   "source": [
    "df1.printSchema()"
   ]
  },
  {
   "cell_type": "code",
   "execution_count": 19,
   "metadata": {},
   "outputs": [
    {
     "data": {
      "text/plain": [
       "['Age', 'Total_Purchase', 'Account_Manager', 'Years', 'Num_Sites', 'Company']"
      ]
     },
     "execution_count": 19,
     "metadata": {},
     "output_type": "execute_result"
    }
   ],
   "source": [
    "df1.columns"
   ]
  },
  {
   "cell_type": "code",
   "execution_count": 20,
   "metadata": {},
   "outputs": [],
   "source": [
    "newdf = df1.select(['Age', 'Total_Purchase', 'Account_Manager', 'Years', 'Num_Sites'])"
   ]
  },
  {
   "cell_type": "code",
   "execution_count": 21,
   "metadata": {},
   "outputs": [
    {
     "name": "stdout",
     "output_type": "stream",
     "text": [
      "+----+--------------+---------------+-----+---------+\n",
      "| Age|Total_Purchase|Account_Manager|Years|Num_Sites|\n",
      "+----+--------------+---------------+-----+---------+\n",
      "|42.0|       11066.8|              0| 7.22|      8.0|\n",
      "|41.0|      11916.22|              0|  6.5|     11.0|\n",
      "|38.0|      12884.75|              0| 6.67|     12.0|\n",
      "|42.0|       8010.76|              0| 6.71|     10.0|\n",
      "|37.0|       9191.58|              0| 5.56|      9.0|\n",
      "|48.0|      10356.02|              0| 5.12|      8.0|\n",
      "|44.0|      11331.58|              1| 5.23|     11.0|\n",
      "|32.0|       9885.12|              1| 6.92|      9.0|\n",
      "|43.0|       14062.6|              1| 5.46|     11.0|\n",
      "|40.0|       8066.94|              1| 7.11|     11.0|\n",
      "|30.0|      11575.37|              1| 5.22|      8.0|\n",
      "|45.0|       8771.02|              1| 6.64|     11.0|\n",
      "|45.0|       8988.67|              1| 4.84|     11.0|\n",
      "|40.0|       8283.32|              1|  5.1|     13.0|\n",
      "|41.0|       6569.87|              1|  4.3|     11.0|\n",
      "|38.0|      10494.82|              1| 6.81|     12.0|\n",
      "|45.0|       8213.41|              1| 7.35|     11.0|\n",
      "|43.0|      11226.88|              0| 8.08|     12.0|\n",
      "|53.0|       5515.09|              0| 6.85|      8.0|\n",
      "|46.0|        8046.4|              1| 5.69|      8.0|\n",
      "+----+--------------+---------------+-----+---------+\n",
      "only showing top 20 rows\n",
      "\n"
     ]
    }
   ],
   "source": [
    "newdf.show()"
   ]
  },
  {
   "cell_type": "code",
   "execution_count": 22,
   "metadata": {},
   "outputs": [],
   "source": [
    "from pyspark.ml.feature import VectorAssembler"
   ]
  },
  {
   "cell_type": "code",
   "execution_count": 23,
   "metadata": {},
   "outputs": [],
   "source": [
    "assembler =  VectorAssembler(inputCols= ['Age', 'Total_Purchase', 'Account_Manager', 'Years', 'Num_Sites'], outputCol = 'features' )"
   ]
  },
  {
   "cell_type": "code",
   "execution_count": 24,
   "metadata": {},
   "outputs": [],
   "source": [
    "output = assembler.transform(newdf)"
   ]
  },
  {
   "cell_type": "code",
   "execution_count": 25,
   "metadata": {},
   "outputs": [
    {
     "name": "stdout",
     "output_type": "stream",
     "text": [
      "root\n",
      " |-- Age: double (nullable = true)\n",
      " |-- Total_Purchase: double (nullable = true)\n",
      " |-- Account_Manager: integer (nullable = true)\n",
      " |-- Years: double (nullable = true)\n",
      " |-- Num_Sites: double (nullable = true)\n",
      " |-- features: vector (nullable = true)\n",
      "\n"
     ]
    }
   ],
   "source": [
    "output.printSchema()"
   ]
  },
  {
   "cell_type": "code",
   "execution_count": 26,
   "metadata": {},
   "outputs": [],
   "source": [
    "resultdf = output.select('features', 'Account_Manager')"
   ]
  },
  {
   "cell_type": "code",
   "execution_count": 27,
   "metadata": {},
   "outputs": [],
   "source": [
    "train_data, test_data =resultdf.randomSplit([7.0, 3.0])"
   ]
  },
  {
   "cell_type": "code",
   "execution_count": 28,
   "metadata": {},
   "outputs": [
    {
     "data": {
      "text/plain": [
       "[Row(features=DenseVector([22.0, 11254.38, 1.0, 4.96, 8.0]), Account_Manager=1),\n",
       " Row(features=DenseVector([25.0, 9672.03, 0.0, 5.49, 8.0]), Account_Manager=0)]"
      ]
     },
     "execution_count": 28,
     "metadata": {},
     "output_type": "execute_result"
    }
   ],
   "source": [
    "train_data.head(2)"
   ]
  },
  {
   "cell_type": "code",
   "execution_count": 29,
   "metadata": {},
   "outputs": [
    {
     "data": {
      "text/plain": [
       "[Row(features=DenseVector([28.0, 8670.98, 0.0, 3.99, 6.0]), Account_Manager=0),\n",
       " Row(features=DenseVector([28.0, 11245.38, 0.0, 6.72, 8.0]), Account_Manager=0)]"
      ]
     },
     "execution_count": 29,
     "metadata": {},
     "output_type": "execute_result"
    }
   ],
   "source": [
    "test_data.head(2)"
   ]
  },
  {
   "cell_type": "code",
   "execution_count": 30,
   "metadata": {},
   "outputs": [
    {
     "name": "stdout",
     "output_type": "stream",
     "text": [
      "+-------+-------------------+\n",
      "|summary|    Account_Manager|\n",
      "+-------+-------------------+\n",
      "|  count|                645|\n",
      "|   mean| 0.4697674418604651|\n",
      "| stddev|0.49947249365674595|\n",
      "|    min|                  0|\n",
      "|    max|                  1|\n",
      "+-------+-------------------+\n",
      "\n"
     ]
    }
   ],
   "source": [
    "train_data.describe().show()"
   ]
  },
  {
   "cell_type": "code",
   "execution_count": 31,
   "metadata": {},
   "outputs": [
    {
     "name": "stdout",
     "output_type": "stream",
     "text": [
      "+-------+------------------+\n",
      "|summary|   Account_Manager|\n",
      "+-------+------------------+\n",
      "|  count|               255|\n",
      "|   mean|0.5098039215686274|\n",
      "| stddev|0.5008869699617611|\n",
      "|    min|                 0|\n",
      "|    max|                 1|\n",
      "+-------+------------------+\n",
      "\n"
     ]
    }
   ],
   "source": [
    "test_data.describe().show()"
   ]
  },
  {
   "cell_type": "code",
   "execution_count": 32,
   "metadata": {},
   "outputs": [],
   "source": [
    "from pyspark.ml.classification import LogisticRegression"
   ]
  },
  {
   "cell_type": "code",
   "execution_count": 33,
   "metadata": {},
   "outputs": [],
   "source": [
    "logit = LogisticRegression(labelCol= 'Account_Manager')"
   ]
  },
  {
   "cell_type": "code",
   "execution_count": 34,
   "metadata": {},
   "outputs": [],
   "source": [
    "model = logit.fit(train_data)"
   ]
  },
  {
   "cell_type": "code",
   "execution_count": 35,
   "metadata": {},
   "outputs": [],
   "source": [
    "unlabeled = test_data.select('features')"
   ]
  },
  {
   "cell_type": "code",
   "execution_count": 36,
   "metadata": {},
   "outputs": [],
   "source": [
    "pred = model.transform(unlabeled)"
   ]
  },
  {
   "cell_type": "code",
   "execution_count": 45,
   "metadata": {},
   "outputs": [],
   "source": [
    "pred1 = model.transform(test_data)"
   ]
  },
  {
   "cell_type": "code",
   "execution_count": 46,
   "metadata": {},
   "outputs": [
    {
     "name": "stdout",
     "output_type": "stream",
     "text": [
      "+--------------------+---------------+--------------------+--------------------+----------+\n",
      "|            features|Account_Manager|       rawPrediction|         probability|prediction|\n",
      "+--------------------+---------------+--------------------+--------------------+----------+\n",
      "|[28.0,8670.98,0.0...|              0|[15.4570006814914...|[0.99999980630883...|       0.0|\n",
      "|[28.0,11245.38,0....|              0|[18.8304773971859...|[0.99999999336214...|       0.0|\n",
      "|[29.0,8688.17,1.0...|              1|[-24.668793474813...|[1.93410086280078...|       1.0|\n",
      "|[30.0,7960.64,1.0...|              1|[-26.277642108470...|[3.87048184659132...|       1.0|\n",
      "|[30.0,8403.78,1.0...|              1|[-26.367991969015...|[3.53611669747091...|       1.0|\n",
      "|[30.0,8677.28,1.0...|              1|[-24.124615051785...|[3.33282726105330...|       1.0|\n",
      "|[30.0,11575.37,1....|              1|[-24.334268281083...|[2.70247424879239...|       1.0|\n",
      "|[31.0,5304.6,0.0,...|              0|[17.2690634821981...|[0.99999996836695...|       0.0|\n",
      "|[31.0,5387.75,0.0...|              0|[18.3415007537008...|[0.99999998917600...|       0.0|\n",
      "|[31.0,8688.21,0.0...|              0|[16.2795650125172...|[0.99999991491074...|       0.0|\n",
      "|[31.0,12264.68,1....|              1|[-23.454376868190...|[6.51468692334799...|       1.0|\n",
      "|[32.0,8011.38,0.0...|              0|[18.7044267829238...|[0.99999999247042...|       0.0|\n",
      "|[32.0,8617.98,1.0...|              1|[-23.251233462110...|[7.98210818969718...|       1.0|\n",
      "|[32.0,9885.12,1.0...|              1|[-22.793688706921...|[1.26132432791348...|       1.0|\n",
      "|[32.0,12142.99,0....|              0|[18.4679824085940...|[0.99999999046200...|       0.0|\n",
      "|[32.0,12479.72,0....|              0|[18.7239937698879...|[0.99999999261632...|       0.0|\n",
      "|[32.0,13630.93,0....|              0|[19.6370940176798...|[0.99999999703709...|       0.0|\n",
      "|[33.0,7750.54,1.0...|              1|[-25.156609163994...|[1.18747221520145...|       1.0|\n",
      "|[33.0,8556.73,0.0...|              0|[17.9254538830229...|[0.99999998359129...|       0.0|\n",
      "|[33.0,10709.39,1....|              1|[-24.659193538902...|[1.95275751518181...|       1.0|\n",
      "+--------------------+---------------+--------------------+--------------------+----------+\n",
      "only showing top 20 rows\n",
      "\n"
     ]
    }
   ],
   "source": [
    "pred1.show()"
   ]
  },
  {
   "cell_type": "code",
   "execution_count": 68,
   "metadata": {},
   "outputs": [],
   "source": [
    "res = model.evaluate(test_data)\n"
   ]
  },
  {
   "cell_type": "code",
   "execution_count": 70,
   "metadata": {},
   "outputs": [],
   "source": [
    "from pyspark.ml.evaluation import BinaryClassificationEvaluator , MulticlassClassificationEvaluator"
   ]
  },
  {
   "cell_type": "code",
   "execution_count": 71,
   "metadata": {},
   "outputs": [],
   "source": [
    "evaluator = MulticlassClassificationEvaluator(predictionCol='prediction', labelCol='Account_Manager',metricName='accuracy' )"
   ]
  },
  {
   "cell_type": "code",
   "execution_count": 73,
   "metadata": {},
   "outputs": [
    {
     "data": {
      "text/plain": [
       "1.0"
      ]
     },
     "execution_count": 73,
     "metadata": {},
     "output_type": "execute_result"
    }
   ],
   "source": [
    "evaluator.evaluate(pred1)\n",
    "\n",
    "# auc = evaluator.evaluate(res)"
   ]
  },
  {
   "cell_type": "code",
   "execution_count": 78,
   "metadata": {},
   "outputs": [],
   "source": [
    "newtest = spark.read.csv('new_customers.csv',inferSchema=True,header=True)"
   ]
  },
  {
   "cell_type": "code",
   "execution_count": 79,
   "metadata": {},
   "outputs": [
    {
     "name": "stdout",
     "output_type": "stream",
     "text": [
      "+--------------+----+--------------+---------------+-----+---------+-------------------+--------------------+----------------+\n",
      "|         Names| Age|Total_Purchase|Account_Manager|Years|Num_Sites|       Onboard_date|            Location|         Company|\n",
      "+--------------+----+--------------+---------------+-----+---------+-------------------+--------------------+----------------+\n",
      "| Andrew Mccall|37.0|       9935.53|              1| 7.71|      8.0|2011-08-29 18:37:54|38612 Johnny Stra...|        King Ltd|\n",
      "|Michele Wright|23.0|       7526.94|              1| 9.28|     15.0|2013-07-22 18:19:54|21083 Nicole Junc...|   Cannon-Benson|\n",
      "|  Jeremy Chang|65.0|         100.0|              1|  1.0|     15.0|2006-12-11 07:48:13|085 Austin Views ...|Barron-Robertson|\n",
      "|Megan Ferguson|32.0|        6487.5|              0|  9.4|     14.0|2016-10-28 05:32:13|922 Wright Branch...|   Sexton-Golden|\n",
      "|  Taylor Young|32.0|      13147.71|              1| 10.0|      8.0|2012-03-20 00:36:46|Unit 0789 Box 073...|        Wood LLC|\n",
      "| Jessica Drake|22.0|       8445.26|              1| 3.46|     14.0|2011-02-04 19:29:27|1148 Tina Straven...|   Parks-Robbins|\n",
      "+--------------+----+--------------+---------------+-----+---------+-------------------+--------------------+----------------+\n",
      "\n"
     ]
    }
   ],
   "source": [
    "newtest.show()"
   ]
  },
  {
   "cell_type": "code",
   "execution_count": 80,
   "metadata": {},
   "outputs": [
    {
     "data": {
      "text/plain": [
       "['Names',\n",
       " 'Age',\n",
       " 'Total_Purchase',\n",
       " 'Account_Manager',\n",
       " 'Years',\n",
       " 'Num_Sites',\n",
       " 'Onboard_date',\n",
       " 'Location',\n",
       " 'Company']"
      ]
     },
     "execution_count": 80,
     "metadata": {},
     "output_type": "execute_result"
    }
   ],
   "source": [
    "newtest.columns"
   ]
  },
  {
   "cell_type": "code",
   "execution_count": 81,
   "metadata": {},
   "outputs": [],
   "source": [
    "actual = newtest.select('Account_Manager')"
   ]
  },
  {
   "cell_type": "code",
   "execution_count": 82,
   "metadata": {},
   "outputs": [
    {
     "name": "stdout",
     "output_type": "stream",
     "text": [
      "+---------------+\n",
      "|Account_Manager|\n",
      "+---------------+\n",
      "|              1|\n",
      "|              1|\n",
      "|              1|\n",
      "|              0|\n",
      "|              1|\n",
      "|              1|\n",
      "+---------------+\n",
      "\n"
     ]
    }
   ],
   "source": [
    "actual.show()"
   ]
  },
  {
   "cell_type": "code",
   "execution_count": 84,
   "metadata": {},
   "outputs": [],
   "source": [
    "output = assembler.transform(newtest)"
   ]
  },
  {
   "cell_type": "code",
   "execution_count": 89,
   "metadata": {},
   "outputs": [],
   "source": [
    "output.columns\n",
    "resultdf1 = output.select('features', 'Account_Manager')"
   ]
  },
  {
   "cell_type": "code",
   "execution_count": 91,
   "metadata": {},
   "outputs": [
    {
     "name": "stdout",
     "output_type": "stream",
     "text": [
      "+--------------------+---------------+\n",
      "|            features|Account_Manager|\n",
      "+--------------------+---------------+\n",
      "|[37.0,9935.53,1.0...|              1|\n",
      "|[23.0,7526.94,1.0...|              1|\n",
      "|[65.0,100.0,1.0,1...|              1|\n",
      "|[32.0,6487.5,0.0,...|              0|\n",
      "|[32.0,13147.71,1....|              1|\n",
      "|[22.0,8445.26,1.0...|              1|\n",
      "+--------------------+---------------+\n",
      "\n"
     ]
    }
   ],
   "source": [
    "resultdf1.show()"
   ]
  },
  {
   "cell_type": "code",
   "execution_count": 92,
   "metadata": {},
   "outputs": [],
   "source": [
    "newpred = model.transform(resultdf1)"
   ]
  },
  {
   "cell_type": "code",
   "execution_count": 93,
   "metadata": {},
   "outputs": [
    {
     "name": "stdout",
     "output_type": "stream",
     "text": [
      "+--------------------+---------------+--------------------+--------------------+----------+\n",
      "|            features|Account_Manager|       rawPrediction|         probability|prediction|\n",
      "+--------------------+---------------+--------------------+--------------------+----------+\n",
      "|[37.0,9935.53,1.0...|              1|[-21.458754332626...|[4.79271279602539...|       1.0|\n",
      "|[23.0,7526.94,1.0...|              1|[-21.616777665284...|[4.09216129409518...|       1.0|\n",
      "|[65.0,100.0,1.0,1...|              1|[-19.494445147206...|[3.41719721166112...|       1.0|\n",
      "|[32.0,6487.5,0.0,...|              0|[22.5991503938921...|[0.99999999984678...|       0.0|\n",
      "|[32.0,13147.71,1....|              1|[-20.163026473447...|[1.75109159448111...|       1.0|\n",
      "|[22.0,8445.26,1.0...|              1|[-25.947329726856...|[5.38539892727394...|       1.0|\n",
      "+--------------------+---------------+--------------------+--------------------+----------+\n",
      "\n"
     ]
    }
   ],
   "source": [
    "newpred.show()"
   ]
  },
  {
   "cell_type": "code",
   "execution_count": 95,
   "metadata": {},
   "outputs": [
    {
     "name": "stdout",
     "output_type": "stream",
     "text": [
      "+---------------+----------+\n",
      "|Account_Manager|prediction|\n",
      "+---------------+----------+\n",
      "|              1|       1.0|\n",
      "|              1|       1.0|\n",
      "|              1|       1.0|\n",
      "|              0|       0.0|\n",
      "|              1|       1.0|\n",
      "|              1|       1.0|\n",
      "+---------------+----------+\n",
      "\n"
     ]
    }
   ],
   "source": [
    "newpred.select('Account_Manager', 'prediction').show()"
   ]
  },
  {
   "cell_type": "code",
   "execution_count": null,
   "metadata": {},
   "outputs": [],
   "source": []
  }
 ],
 "metadata": {
  "anaconda-cloud": {},
  "kernelspec": {
   "display_name": "Python 3",
   "language": "python",
   "name": "python3"
  },
  "language_info": {
   "codemirror_mode": {
    "name": "ipython",
    "version": 3
   },
   "file_extension": ".py",
   "mimetype": "text/x-python",
   "name": "python",
   "nbconvert_exporter": "python",
   "pygments_lexer": "ipython3",
   "version": "3.8.5"
  },
  "toc": {
   "base_numbering": 1,
   "nav_menu": {},
   "number_sections": true,
   "sideBar": true,
   "skip_h1_title": false,
   "title_cell": "Table of Contents",
   "title_sidebar": "Contents",
   "toc_cell": false,
   "toc_position": {},
   "toc_section_display": true,
   "toc_window_display": false
  }
 },
 "nbformat": 4,
 "nbformat_minor": 1
}
