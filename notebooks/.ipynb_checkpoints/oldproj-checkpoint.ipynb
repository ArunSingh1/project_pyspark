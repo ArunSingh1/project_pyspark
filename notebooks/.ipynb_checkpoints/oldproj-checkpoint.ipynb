{
 "cells": [
  {
   "cell_type": "markdown",
   "id": "b4add708",
   "metadata": {},
   "source": [
    "## Analysis on Crytocurrency using Twitter data and NLP techniques"
   ]
  },
  {
   "cell_type": "markdown",
   "id": "96f4eccb",
   "metadata": {},
   "source": [
    "Crypto Currency has been on raise in last 10 years, Analysis on the crypto market may shead more light about this new digital currencies \n",
    "Streaming twitter data is collected using Twitter API and twython. Analysis is performed using Pyspark\n",
    "\n",
    "    Description of data: \n",
    "    \"tweet_id\",       \n",
    "    \"username\",       \n",
    "    \"user_id\",        \n",
    "    \"user_desc\",      \n",
    "    \"created_at_str\", \n",
    "    \"date\",           \n",
    "    \"text\",           \n",
    "    \"hashtags\",       \n",
    "    \"lang\",           \n",
    "    \"profilepic\",     \n",
    "    \"location\",       \n",
    "    \"retweet_count\",  \n",
    "    \"favorite_count\", \n",
    "    \"joined_in\",      \n",
    "    \"is_Verfied\",     \n",
    "    \"followers_count\",\n",
    "    \"geo\",            \n",
    "    \"source\"          \n",
    "\n",
    "    \n",
    "It is saved in a csv file for you called \"cryptotweets.csv\". "
   ]
  },
  {
   "cell_type": "code",
   "execution_count": 1,
   "id": "736a8b96",
   "metadata": {},
   "outputs": [],
   "source": [
    "from pyspark import SparkContext"
   ]
  },
  {
   "cell_type": "code",
   "execution_count": 2,
   "id": "dbc9584b",
   "metadata": {},
   "outputs": [],
   "source": [
    "sc = SparkContext(master= \"local[4]\")"
   ]
  },
  {
   "cell_type": "code",
   "execution_count": 3,
   "id": "ad358613",
   "metadata": {},
   "outputs": [
    {
     "data": {
      "text/html": [
       "\n",
       "        <div>\n",
       "            <p><b>SparkContext</b></p>\n",
       "\n",
       "            <p><a href=\"http://b54532ca6136:4040\">Spark UI</a></p>\n",
       "\n",
       "            <dl>\n",
       "              <dt>Version</dt>\n",
       "                <dd><code>v3.1.2</code></dd>\n",
       "              <dt>Master</dt>\n",
       "                <dd><code>local[4]</code></dd>\n",
       "              <dt>AppName</dt>\n",
       "                <dd><code>pyspark-shell</code></dd>\n",
       "            </dl>\n",
       "        </div>\n",
       "        "
      ],
      "text/plain": [
       "<SparkContext master=local[4] appName=pyspark-shell>"
      ]
     },
     "execution_count": 3,
     "metadata": {},
     "output_type": "execute_result"
    }
   ],
   "source": [
    "sc"
   ]
  },
  {
   "cell_type": "code",
   "execution_count": 4,
   "id": "d6b9d95e",
   "metadata": {},
   "outputs": [],
   "source": [
    "from pyspark.sql import SparkSession"
   ]
  },
  {
   "cell_type": "code",
   "execution_count": 5,
   "id": "d6db1d63",
   "metadata": {},
   "outputs": [],
   "source": [
    "spark = SparkSession.builder.appName(\"crypto\").getOrCreate()"
   ]
  },
  {
   "cell_type": "code",
   "execution_count": null,
   "id": "8084bca5",
   "metadata": {},
   "outputs": [],
   "source": [
    "df = spark.read.csv('data/crytotweets.csv',inferSchema=True,header=True)"
   ]
  },
  {
   "cell_type": "code",
   "execution_count": null,
   "id": "57d71cbd",
   "metadata": {},
   "outputs": [],
   "source": []
  }
 ],
 "metadata": {
  "kernelspec": {
   "display_name": "Python 3",
   "language": "python",
   "name": "python3"
  },
  "language_info": {
   "codemirror_mode": {
    "name": "ipython",
    "version": 3
   },
   "file_extension": ".py",
   "mimetype": "text/x-python",
   "name": "python",
   "nbconvert_exporter": "python",
   "pygments_lexer": "ipython3",
   "version": "3.9.4"
  }
 },
 "nbformat": 4,
 "nbformat_minor": 5
}
